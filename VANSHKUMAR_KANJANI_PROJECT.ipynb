{
  "nbformat": 4,
  "nbformat_minor": 0,
  "metadata": {
    "colab": {
      "name": "VANSHKUMAR_KANJANI_PROJECT.ipynb",
      "provenance": [],
      "collapsed_sections": []
    },
    "kernelspec": {
      "name": "python3",
      "display_name": "Python 3"
    },
    "language_info": {
      "name": "python"
    }
  },
  "cells": [
    {
      "cell_type": "markdown",
      "metadata": {
        "id": "CpErk9iwSGu9"
      },
      "source": [
        "# IMPORTING VARIOUS LIBRARIES.\n"
      ]
    },
    {
      "cell_type": "code",
      "execution_count": 1,
      "metadata": {
        "id": "MPi74F1e-TC3"
      },
      "outputs": [],
      "source": [
        "import numpy as np\n",
        "import pandas as pd \n",
        "import matplotlib.pyplot as plt\n",
        "import seaborn as sns\n",
        "import sklearn "
      ]
    },
    {
      "cell_type": "markdown",
      "metadata": {
        "id": "w6iRw2VUSSg2"
      },
      "source": [
        "# MOUNTING A DRIVE."
      ]
    },
    {
      "cell_type": "code",
      "execution_count": 2,
      "metadata": {
        "colab": {
          "base_uri": "https://localhost:8080/"
        },
        "id": "D4WB96DH-ezt",
        "outputId": "a4751032-9cff-4de7-9e08-66264dfd8696"
      },
      "outputs": [
        {
          "output_type": "stream",
          "name": "stdout",
          "text": [
            "Mounted at /content/drive\n"
          ]
        }
      ],
      "source": [
        "from google.colab import drive\n",
        "drive.mount('/content/drive')"
      ]
    },
    {
      "cell_type": "markdown",
      "metadata": {
        "id": "JRyELpIFSoAF"
      },
      "source": [
        "# IMPORTING A DATASET OR ITS CSV FILE."
      ]
    },
    {
      "cell_type": "code",
      "execution_count": 3,
      "metadata": {
        "id": "3GPMqYTU-mdu"
      },
      "outputs": [],
      "source": [
        "df = pd.read_csv(\"/content/drive/MyDrive/Colab Notebooks/SURVEY_LUNG_CANCER_DATASET_PRED.csv\") "
      ]
    },
    {
      "cell_type": "code",
      "execution_count": 4,
      "metadata": {
        "colab": {
          "base_uri": "https://localhost:8080/",
          "height": 505
        },
        "id": "7Nyaxllq_Dir",
        "outputId": "4d602faa-1d1a-430e-f977-10b9adc4e051"
      },
      "outputs": [
        {
          "output_type": "execute_result",
          "data": {
            "text/html": [
              "\n",
              "  <div id=\"df-3fabf3d1-0e6f-4bc0-9a20-2464054781cd\">\n",
              "    <div class=\"colab-df-container\">\n",
              "      <div>\n",
              "<style scoped>\n",
              "    .dataframe tbody tr th:only-of-type {\n",
              "        vertical-align: middle;\n",
              "    }\n",
              "\n",
              "    .dataframe tbody tr th {\n",
              "        vertical-align: top;\n",
              "    }\n",
              "\n",
              "    .dataframe thead th {\n",
              "        text-align: right;\n",
              "    }\n",
              "</style>\n",
              "<table border=\"1\" class=\"dataframe\">\n",
              "  <thead>\n",
              "    <tr style=\"text-align: right;\">\n",
              "      <th></th>\n",
              "      <th>GENDER</th>\n",
              "      <th>AGE</th>\n",
              "      <th>SMOKING</th>\n",
              "      <th>YELLOW_FINGERS</th>\n",
              "      <th>ANXIETY</th>\n",
              "      <th>PEER_PRESSURE</th>\n",
              "      <th>CHRONIC DISEASE</th>\n",
              "      <th>FATIGUE</th>\n",
              "      <th>ALLERGY</th>\n",
              "      <th>WHEEZING</th>\n",
              "      <th>ALCOHOL CONSUMING</th>\n",
              "      <th>COUGHING</th>\n",
              "      <th>SHORTNESS OF BREATH</th>\n",
              "      <th>SWALLOWING DIFFICULTY</th>\n",
              "      <th>CHEST PAIN</th>\n",
              "      <th>LUNG_CANCER</th>\n",
              "    </tr>\n",
              "  </thead>\n",
              "  <tbody>\n",
              "    <tr>\n",
              "      <th>0</th>\n",
              "      <td>M</td>\n",
              "      <td>69</td>\n",
              "      <td>1</td>\n",
              "      <td>2</td>\n",
              "      <td>2</td>\n",
              "      <td>1</td>\n",
              "      <td>1</td>\n",
              "      <td>2</td>\n",
              "      <td>1</td>\n",
              "      <td>2</td>\n",
              "      <td>2</td>\n",
              "      <td>2</td>\n",
              "      <td>2</td>\n",
              "      <td>2</td>\n",
              "      <td>2</td>\n",
              "      <td>YES</td>\n",
              "    </tr>\n",
              "    <tr>\n",
              "      <th>1</th>\n",
              "      <td>M</td>\n",
              "      <td>74</td>\n",
              "      <td>2</td>\n",
              "      <td>1</td>\n",
              "      <td>1</td>\n",
              "      <td>1</td>\n",
              "      <td>2</td>\n",
              "      <td>2</td>\n",
              "      <td>2</td>\n",
              "      <td>1</td>\n",
              "      <td>1</td>\n",
              "      <td>1</td>\n",
              "      <td>2</td>\n",
              "      <td>2</td>\n",
              "      <td>2</td>\n",
              "      <td>YES</td>\n",
              "    </tr>\n",
              "    <tr>\n",
              "      <th>2</th>\n",
              "      <td>F</td>\n",
              "      <td>59</td>\n",
              "      <td>1</td>\n",
              "      <td>1</td>\n",
              "      <td>1</td>\n",
              "      <td>2</td>\n",
              "      <td>1</td>\n",
              "      <td>2</td>\n",
              "      <td>1</td>\n",
              "      <td>2</td>\n",
              "      <td>1</td>\n",
              "      <td>2</td>\n",
              "      <td>2</td>\n",
              "      <td>1</td>\n",
              "      <td>2</td>\n",
              "      <td>NO</td>\n",
              "    </tr>\n",
              "    <tr>\n",
              "      <th>3</th>\n",
              "      <td>M</td>\n",
              "      <td>63</td>\n",
              "      <td>2</td>\n",
              "      <td>2</td>\n",
              "      <td>2</td>\n",
              "      <td>1</td>\n",
              "      <td>1</td>\n",
              "      <td>1</td>\n",
              "      <td>1</td>\n",
              "      <td>1</td>\n",
              "      <td>2</td>\n",
              "      <td>1</td>\n",
              "      <td>1</td>\n",
              "      <td>2</td>\n",
              "      <td>2</td>\n",
              "      <td>NO</td>\n",
              "    </tr>\n",
              "    <tr>\n",
              "      <th>4</th>\n",
              "      <td>F</td>\n",
              "      <td>63</td>\n",
              "      <td>1</td>\n",
              "      <td>2</td>\n",
              "      <td>1</td>\n",
              "      <td>1</td>\n",
              "      <td>1</td>\n",
              "      <td>1</td>\n",
              "      <td>1</td>\n",
              "      <td>2</td>\n",
              "      <td>1</td>\n",
              "      <td>2</td>\n",
              "      <td>2</td>\n",
              "      <td>1</td>\n",
              "      <td>1</td>\n",
              "      <td>NO</td>\n",
              "    </tr>\n",
              "    <tr>\n",
              "      <th>...</th>\n",
              "      <td>...</td>\n",
              "      <td>...</td>\n",
              "      <td>...</td>\n",
              "      <td>...</td>\n",
              "      <td>...</td>\n",
              "      <td>...</td>\n",
              "      <td>...</td>\n",
              "      <td>...</td>\n",
              "      <td>...</td>\n",
              "      <td>...</td>\n",
              "      <td>...</td>\n",
              "      <td>...</td>\n",
              "      <td>...</td>\n",
              "      <td>...</td>\n",
              "      <td>...</td>\n",
              "      <td>...</td>\n",
              "    </tr>\n",
              "    <tr>\n",
              "      <th>1231</th>\n",
              "      <td>F</td>\n",
              "      <td>56</td>\n",
              "      <td>1</td>\n",
              "      <td>1</td>\n",
              "      <td>1</td>\n",
              "      <td>2</td>\n",
              "      <td>2</td>\n",
              "      <td>2</td>\n",
              "      <td>1</td>\n",
              "      <td>1</td>\n",
              "      <td>2</td>\n",
              "      <td>2</td>\n",
              "      <td>2</td>\n",
              "      <td>2</td>\n",
              "      <td>1</td>\n",
              "      <td>YES</td>\n",
              "    </tr>\n",
              "    <tr>\n",
              "      <th>1232</th>\n",
              "      <td>M</td>\n",
              "      <td>70</td>\n",
              "      <td>2</td>\n",
              "      <td>1</td>\n",
              "      <td>1</td>\n",
              "      <td>1</td>\n",
              "      <td>1</td>\n",
              "      <td>2</td>\n",
              "      <td>2</td>\n",
              "      <td>2</td>\n",
              "      <td>2</td>\n",
              "      <td>2</td>\n",
              "      <td>2</td>\n",
              "      <td>1</td>\n",
              "      <td>2</td>\n",
              "      <td>YES</td>\n",
              "    </tr>\n",
              "    <tr>\n",
              "      <th>1233</th>\n",
              "      <td>M</td>\n",
              "      <td>58</td>\n",
              "      <td>2</td>\n",
              "      <td>1</td>\n",
              "      <td>1</td>\n",
              "      <td>1</td>\n",
              "      <td>1</td>\n",
              "      <td>1</td>\n",
              "      <td>2</td>\n",
              "      <td>2</td>\n",
              "      <td>2</td>\n",
              "      <td>2</td>\n",
              "      <td>1</td>\n",
              "      <td>1</td>\n",
              "      <td>2</td>\n",
              "      <td>YES</td>\n",
              "    </tr>\n",
              "    <tr>\n",
              "      <th>1234</th>\n",
              "      <td>M</td>\n",
              "      <td>67</td>\n",
              "      <td>2</td>\n",
              "      <td>1</td>\n",
              "      <td>2</td>\n",
              "      <td>1</td>\n",
              "      <td>1</td>\n",
              "      <td>2</td>\n",
              "      <td>2</td>\n",
              "      <td>1</td>\n",
              "      <td>2</td>\n",
              "      <td>2</td>\n",
              "      <td>2</td>\n",
              "      <td>1</td>\n",
              "      <td>2</td>\n",
              "      <td>YES</td>\n",
              "    </tr>\n",
              "    <tr>\n",
              "      <th>1235</th>\n",
              "      <td>M</td>\n",
              "      <td>62</td>\n",
              "      <td>1</td>\n",
              "      <td>1</td>\n",
              "      <td>1</td>\n",
              "      <td>2</td>\n",
              "      <td>1</td>\n",
              "      <td>2</td>\n",
              "      <td>2</td>\n",
              "      <td>2</td>\n",
              "      <td>2</td>\n",
              "      <td>1</td>\n",
              "      <td>1</td>\n",
              "      <td>2</td>\n",
              "      <td>1</td>\n",
              "      <td>YES</td>\n",
              "    </tr>\n",
              "  </tbody>\n",
              "</table>\n",
              "<p>1236 rows × 16 columns</p>\n",
              "</div>\n",
              "      <button class=\"colab-df-convert\" onclick=\"convertToInteractive('df-3fabf3d1-0e6f-4bc0-9a20-2464054781cd')\"\n",
              "              title=\"Convert this dataframe to an interactive table.\"\n",
              "              style=\"display:none;\">\n",
              "        \n",
              "  <svg xmlns=\"http://www.w3.org/2000/svg\" height=\"24px\"viewBox=\"0 0 24 24\"\n",
              "       width=\"24px\">\n",
              "    <path d=\"M0 0h24v24H0V0z\" fill=\"none\"/>\n",
              "    <path d=\"M18.56 5.44l.94 2.06.94-2.06 2.06-.94-2.06-.94-.94-2.06-.94 2.06-2.06.94zm-11 1L8.5 8.5l.94-2.06 2.06-.94-2.06-.94L8.5 2.5l-.94 2.06-2.06.94zm10 10l.94 2.06.94-2.06 2.06-.94-2.06-.94-.94-2.06-.94 2.06-2.06.94z\"/><path d=\"M17.41 7.96l-1.37-1.37c-.4-.4-.92-.59-1.43-.59-.52 0-1.04.2-1.43.59L10.3 9.45l-7.72 7.72c-.78.78-.78 2.05 0 2.83L4 21.41c.39.39.9.59 1.41.59.51 0 1.02-.2 1.41-.59l7.78-7.78 2.81-2.81c.8-.78.8-2.07 0-2.86zM5.41 20L4 18.59l7.72-7.72 1.47 1.35L5.41 20z\"/>\n",
              "  </svg>\n",
              "      </button>\n",
              "      \n",
              "  <style>\n",
              "    .colab-df-container {\n",
              "      display:flex;\n",
              "      flex-wrap:wrap;\n",
              "      gap: 12px;\n",
              "    }\n",
              "\n",
              "    .colab-df-convert {\n",
              "      background-color: #E8F0FE;\n",
              "      border: none;\n",
              "      border-radius: 50%;\n",
              "      cursor: pointer;\n",
              "      display: none;\n",
              "      fill: #1967D2;\n",
              "      height: 32px;\n",
              "      padding: 0 0 0 0;\n",
              "      width: 32px;\n",
              "    }\n",
              "\n",
              "    .colab-df-convert:hover {\n",
              "      background-color: #E2EBFA;\n",
              "      box-shadow: 0px 1px 2px rgba(60, 64, 67, 0.3), 0px 1px 3px 1px rgba(60, 64, 67, 0.15);\n",
              "      fill: #174EA6;\n",
              "    }\n",
              "\n",
              "    [theme=dark] .colab-df-convert {\n",
              "      background-color: #3B4455;\n",
              "      fill: #D2E3FC;\n",
              "    }\n",
              "\n",
              "    [theme=dark] .colab-df-convert:hover {\n",
              "      background-color: #434B5C;\n",
              "      box-shadow: 0px 1px 3px 1px rgba(0, 0, 0, 0.15);\n",
              "      filter: drop-shadow(0px 1px 2px rgba(0, 0, 0, 0.3));\n",
              "      fill: #FFFFFF;\n",
              "    }\n",
              "  </style>\n",
              "\n",
              "      <script>\n",
              "        const buttonEl =\n",
              "          document.querySelector('#df-3fabf3d1-0e6f-4bc0-9a20-2464054781cd button.colab-df-convert');\n",
              "        buttonEl.style.display =\n",
              "          google.colab.kernel.accessAllowed ? 'block' : 'none';\n",
              "\n",
              "        async function convertToInteractive(key) {\n",
              "          const element = document.querySelector('#df-3fabf3d1-0e6f-4bc0-9a20-2464054781cd');\n",
              "          const dataTable =\n",
              "            await google.colab.kernel.invokeFunction('convertToInteractive',\n",
              "                                                     [key], {});\n",
              "          if (!dataTable) return;\n",
              "\n",
              "          const docLinkHtml = 'Like what you see? Visit the ' +\n",
              "            '<a target=\"_blank\" href=https://colab.research.google.com/notebooks/data_table.ipynb>data table notebook</a>'\n",
              "            + ' to learn more about interactive tables.';\n",
              "          element.innerHTML = '';\n",
              "          dataTable['output_type'] = 'display_data';\n",
              "          await google.colab.output.renderOutput(dataTable, element);\n",
              "          const docLink = document.createElement('div');\n",
              "          docLink.innerHTML = docLinkHtml;\n",
              "          element.appendChild(docLink);\n",
              "        }\n",
              "      </script>\n",
              "    </div>\n",
              "  </div>\n",
              "  "
            ],
            "text/plain": [
              "     GENDER  AGE  SMOKING  ...  SWALLOWING DIFFICULTY  CHEST PAIN  LUNG_CANCER\n",
              "0         M   69        1  ...                      2           2          YES\n",
              "1         M   74        2  ...                      2           2          YES\n",
              "2         F   59        1  ...                      1           2           NO\n",
              "3         M   63        2  ...                      2           2           NO\n",
              "4         F   63        1  ...                      1           1           NO\n",
              "...     ...  ...      ...  ...                    ...         ...          ...\n",
              "1231      F   56        1  ...                      2           1          YES\n",
              "1232      M   70        2  ...                      1           2          YES\n",
              "1233      M   58        2  ...                      1           2          YES\n",
              "1234      M   67        2  ...                      1           2          YES\n",
              "1235      M   62        1  ...                      2           1          YES\n",
              "\n",
              "[1236 rows x 16 columns]"
            ]
          },
          "metadata": {},
          "execution_count": 4
        }
      ],
      "source": [
        "df"
      ]
    },
    {
      "cell_type": "code",
      "execution_count": 5,
      "metadata": {
        "colab": {
          "base_uri": "https://localhost:8080/",
          "height": 382
        },
        "id": "23vzkYSi_HpE",
        "outputId": "0570548f-287d-4801-fe51-a55b6b2e39fe"
      },
      "outputs": [
        {
          "output_type": "execute_result",
          "data": {
            "text/html": [
              "\n",
              "  <div id=\"df-bfa5d694-6243-4c2a-bf6d-5c56a0c9c68e\">\n",
              "    <div class=\"colab-df-container\">\n",
              "      <div>\n",
              "<style scoped>\n",
              "    .dataframe tbody tr th:only-of-type {\n",
              "        vertical-align: middle;\n",
              "    }\n",
              "\n",
              "    .dataframe tbody tr th {\n",
              "        vertical-align: top;\n",
              "    }\n",
              "\n",
              "    .dataframe thead th {\n",
              "        text-align: right;\n",
              "    }\n",
              "</style>\n",
              "<table border=\"1\" class=\"dataframe\">\n",
              "  <thead>\n",
              "    <tr style=\"text-align: right;\">\n",
              "      <th></th>\n",
              "      <th>AGE</th>\n",
              "      <th>SMOKING</th>\n",
              "      <th>YELLOW_FINGERS</th>\n",
              "      <th>ANXIETY</th>\n",
              "      <th>PEER_PRESSURE</th>\n",
              "      <th>CHRONIC DISEASE</th>\n",
              "      <th>FATIGUE</th>\n",
              "      <th>ALLERGY</th>\n",
              "      <th>WHEEZING</th>\n",
              "      <th>ALCOHOL CONSUMING</th>\n",
              "      <th>COUGHING</th>\n",
              "      <th>SHORTNESS OF BREATH</th>\n",
              "      <th>SWALLOWING DIFFICULTY</th>\n",
              "      <th>CHEST PAIN</th>\n",
              "    </tr>\n",
              "  </thead>\n",
              "  <tbody>\n",
              "    <tr>\n",
              "      <th>count</th>\n",
              "      <td>1236.000000</td>\n",
              "      <td>1236.000000</td>\n",
              "      <td>1236.000000</td>\n",
              "      <td>1236.000000</td>\n",
              "      <td>1236.000000</td>\n",
              "      <td>1236.000000</td>\n",
              "      <td>1236.000000</td>\n",
              "      <td>1236.000000</td>\n",
              "      <td>1236.000000</td>\n",
              "      <td>1236.000000</td>\n",
              "      <td>1236.000000</td>\n",
              "      <td>1236.000000</td>\n",
              "      <td>1236.000000</td>\n",
              "      <td>1236.000000</td>\n",
              "    </tr>\n",
              "    <tr>\n",
              "      <th>mean</th>\n",
              "      <td>62.673139</td>\n",
              "      <td>1.563107</td>\n",
              "      <td>1.569579</td>\n",
              "      <td>1.498382</td>\n",
              "      <td>1.501618</td>\n",
              "      <td>1.504854</td>\n",
              "      <td>1.673139</td>\n",
              "      <td>1.556634</td>\n",
              "      <td>1.556634</td>\n",
              "      <td>1.556634</td>\n",
              "      <td>1.579288</td>\n",
              "      <td>1.640777</td>\n",
              "      <td>1.469256</td>\n",
              "      <td>1.556634</td>\n",
              "    </tr>\n",
              "    <tr>\n",
              "      <th>std</th>\n",
              "      <td>8.200323</td>\n",
              "      <td>0.496202</td>\n",
              "      <td>0.495335</td>\n",
              "      <td>0.500200</td>\n",
              "      <td>0.500200</td>\n",
              "      <td>0.500179</td>\n",
              "      <td>0.469256</td>\n",
              "      <td>0.496983</td>\n",
              "      <td>0.496983</td>\n",
              "      <td>0.496983</td>\n",
              "      <td>0.493873</td>\n",
              "      <td>0.479967</td>\n",
              "      <td>0.499256</td>\n",
              "      <td>0.496983</td>\n",
              "    </tr>\n",
              "    <tr>\n",
              "      <th>min</th>\n",
              "      <td>21.000000</td>\n",
              "      <td>1.000000</td>\n",
              "      <td>1.000000</td>\n",
              "      <td>1.000000</td>\n",
              "      <td>1.000000</td>\n",
              "      <td>1.000000</td>\n",
              "      <td>1.000000</td>\n",
              "      <td>1.000000</td>\n",
              "      <td>1.000000</td>\n",
              "      <td>1.000000</td>\n",
              "      <td>1.000000</td>\n",
              "      <td>1.000000</td>\n",
              "      <td>1.000000</td>\n",
              "      <td>1.000000</td>\n",
              "    </tr>\n",
              "    <tr>\n",
              "      <th>25%</th>\n",
              "      <td>57.000000</td>\n",
              "      <td>1.000000</td>\n",
              "      <td>1.000000</td>\n",
              "      <td>1.000000</td>\n",
              "      <td>1.000000</td>\n",
              "      <td>1.000000</td>\n",
              "      <td>1.000000</td>\n",
              "      <td>1.000000</td>\n",
              "      <td>1.000000</td>\n",
              "      <td>1.000000</td>\n",
              "      <td>1.000000</td>\n",
              "      <td>1.000000</td>\n",
              "      <td>1.000000</td>\n",
              "      <td>1.000000</td>\n",
              "    </tr>\n",
              "    <tr>\n",
              "      <th>50%</th>\n",
              "      <td>62.000000</td>\n",
              "      <td>2.000000</td>\n",
              "      <td>2.000000</td>\n",
              "      <td>1.000000</td>\n",
              "      <td>2.000000</td>\n",
              "      <td>2.000000</td>\n",
              "      <td>2.000000</td>\n",
              "      <td>2.000000</td>\n",
              "      <td>2.000000</td>\n",
              "      <td>2.000000</td>\n",
              "      <td>2.000000</td>\n",
              "      <td>2.000000</td>\n",
              "      <td>1.000000</td>\n",
              "      <td>2.000000</td>\n",
              "    </tr>\n",
              "    <tr>\n",
              "      <th>75%</th>\n",
              "      <td>69.000000</td>\n",
              "      <td>2.000000</td>\n",
              "      <td>2.000000</td>\n",
              "      <td>2.000000</td>\n",
              "      <td>2.000000</td>\n",
              "      <td>2.000000</td>\n",
              "      <td>2.000000</td>\n",
              "      <td>2.000000</td>\n",
              "      <td>2.000000</td>\n",
              "      <td>2.000000</td>\n",
              "      <td>2.000000</td>\n",
              "      <td>2.000000</td>\n",
              "      <td>2.000000</td>\n",
              "      <td>2.000000</td>\n",
              "    </tr>\n",
              "    <tr>\n",
              "      <th>max</th>\n",
              "      <td>87.000000</td>\n",
              "      <td>2.000000</td>\n",
              "      <td>2.000000</td>\n",
              "      <td>2.000000</td>\n",
              "      <td>2.000000</td>\n",
              "      <td>2.000000</td>\n",
              "      <td>2.000000</td>\n",
              "      <td>2.000000</td>\n",
              "      <td>2.000000</td>\n",
              "      <td>2.000000</td>\n",
              "      <td>2.000000</td>\n",
              "      <td>2.000000</td>\n",
              "      <td>2.000000</td>\n",
              "      <td>2.000000</td>\n",
              "    </tr>\n",
              "  </tbody>\n",
              "</table>\n",
              "</div>\n",
              "      <button class=\"colab-df-convert\" onclick=\"convertToInteractive('df-bfa5d694-6243-4c2a-bf6d-5c56a0c9c68e')\"\n",
              "              title=\"Convert this dataframe to an interactive table.\"\n",
              "              style=\"display:none;\">\n",
              "        \n",
              "  <svg xmlns=\"http://www.w3.org/2000/svg\" height=\"24px\"viewBox=\"0 0 24 24\"\n",
              "       width=\"24px\">\n",
              "    <path d=\"M0 0h24v24H0V0z\" fill=\"none\"/>\n",
              "    <path d=\"M18.56 5.44l.94 2.06.94-2.06 2.06-.94-2.06-.94-.94-2.06-.94 2.06-2.06.94zm-11 1L8.5 8.5l.94-2.06 2.06-.94-2.06-.94L8.5 2.5l-.94 2.06-2.06.94zm10 10l.94 2.06.94-2.06 2.06-.94-2.06-.94-.94-2.06-.94 2.06-2.06.94z\"/><path d=\"M17.41 7.96l-1.37-1.37c-.4-.4-.92-.59-1.43-.59-.52 0-1.04.2-1.43.59L10.3 9.45l-7.72 7.72c-.78.78-.78 2.05 0 2.83L4 21.41c.39.39.9.59 1.41.59.51 0 1.02-.2 1.41-.59l7.78-7.78 2.81-2.81c.8-.78.8-2.07 0-2.86zM5.41 20L4 18.59l7.72-7.72 1.47 1.35L5.41 20z\"/>\n",
              "  </svg>\n",
              "      </button>\n",
              "      \n",
              "  <style>\n",
              "    .colab-df-container {\n",
              "      display:flex;\n",
              "      flex-wrap:wrap;\n",
              "      gap: 12px;\n",
              "    }\n",
              "\n",
              "    .colab-df-convert {\n",
              "      background-color: #E8F0FE;\n",
              "      border: none;\n",
              "      border-radius: 50%;\n",
              "      cursor: pointer;\n",
              "      display: none;\n",
              "      fill: #1967D2;\n",
              "      height: 32px;\n",
              "      padding: 0 0 0 0;\n",
              "      width: 32px;\n",
              "    }\n",
              "\n",
              "    .colab-df-convert:hover {\n",
              "      background-color: #E2EBFA;\n",
              "      box-shadow: 0px 1px 2px rgba(60, 64, 67, 0.3), 0px 1px 3px 1px rgba(60, 64, 67, 0.15);\n",
              "      fill: #174EA6;\n",
              "    }\n",
              "\n",
              "    [theme=dark] .colab-df-convert {\n",
              "      background-color: #3B4455;\n",
              "      fill: #D2E3FC;\n",
              "    }\n",
              "\n",
              "    [theme=dark] .colab-df-convert:hover {\n",
              "      background-color: #434B5C;\n",
              "      box-shadow: 0px 1px 3px 1px rgba(0, 0, 0, 0.15);\n",
              "      filter: drop-shadow(0px 1px 2px rgba(0, 0, 0, 0.3));\n",
              "      fill: #FFFFFF;\n",
              "    }\n",
              "  </style>\n",
              "\n",
              "      <script>\n",
              "        const buttonEl =\n",
              "          document.querySelector('#df-bfa5d694-6243-4c2a-bf6d-5c56a0c9c68e button.colab-df-convert');\n",
              "        buttonEl.style.display =\n",
              "          google.colab.kernel.accessAllowed ? 'block' : 'none';\n",
              "\n",
              "        async function convertToInteractive(key) {\n",
              "          const element = document.querySelector('#df-bfa5d694-6243-4c2a-bf6d-5c56a0c9c68e');\n",
              "          const dataTable =\n",
              "            await google.colab.kernel.invokeFunction('convertToInteractive',\n",
              "                                                     [key], {});\n",
              "          if (!dataTable) return;\n",
              "\n",
              "          const docLinkHtml = 'Like what you see? Visit the ' +\n",
              "            '<a target=\"_blank\" href=https://colab.research.google.com/notebooks/data_table.ipynb>data table notebook</a>'\n",
              "            + ' to learn more about interactive tables.';\n",
              "          element.innerHTML = '';\n",
              "          dataTable['output_type'] = 'display_data';\n",
              "          await google.colab.output.renderOutput(dataTable, element);\n",
              "          const docLink = document.createElement('div');\n",
              "          docLink.innerHTML = docLinkHtml;\n",
              "          element.appendChild(docLink);\n",
              "        }\n",
              "      </script>\n",
              "    </div>\n",
              "  </div>\n",
              "  "
            ],
            "text/plain": [
              "               AGE      SMOKING  ...  SWALLOWING DIFFICULTY   CHEST PAIN\n",
              "count  1236.000000  1236.000000  ...            1236.000000  1236.000000\n",
              "mean     62.673139     1.563107  ...               1.469256     1.556634\n",
              "std       8.200323     0.496202  ...               0.499256     0.496983\n",
              "min      21.000000     1.000000  ...               1.000000     1.000000\n",
              "25%      57.000000     1.000000  ...               1.000000     1.000000\n",
              "50%      62.000000     2.000000  ...               1.000000     2.000000\n",
              "75%      69.000000     2.000000  ...               2.000000     2.000000\n",
              "max      87.000000     2.000000  ...               2.000000     2.000000\n",
              "\n",
              "[8 rows x 14 columns]"
            ]
          },
          "metadata": {},
          "execution_count": 5
        }
      ],
      "source": [
        "df.describe()"
      ]
    },
    {
      "cell_type": "code",
      "execution_count": 6,
      "metadata": {
        "colab": {
          "base_uri": "https://localhost:8080/"
        },
        "id": "9t7cySNWVASS",
        "outputId": "9b71daa8-1165-4293-c7a2-3b0ba8048d0b"
      },
      "outputs": [
        {
          "output_type": "execute_result",
          "data": {
            "text/plain": [
              "Index(['GENDER', 'AGE', 'SMOKING', 'YELLOW_FINGERS', 'ANXIETY',\n",
              "       'PEER_PRESSURE', 'CHRONIC DISEASE', 'FATIGUE ', 'ALLERGY ', 'WHEEZING',\n",
              "       'ALCOHOL CONSUMING', 'COUGHING', 'SHORTNESS OF BREATH',\n",
              "       'SWALLOWING DIFFICULTY', 'CHEST PAIN', 'LUNG_CANCER'],\n",
              "      dtype='object')"
            ]
          },
          "metadata": {},
          "execution_count": 6
        }
      ],
      "source": [
        "df.columns"
      ]
    },
    {
      "cell_type": "code",
      "execution_count": 7,
      "metadata": {
        "colab": {
          "base_uri": "https://localhost:8080/"
        },
        "id": "WSxMEkR2_Lg8",
        "outputId": "84f7536d-b35b-4829-bd9a-0c3411d582fa"
      },
      "outputs": [
        {
          "output_type": "stream",
          "name": "stdout",
          "text": [
            "19776\n",
            "(1236, 16)\n"
          ]
        }
      ],
      "source": [
        "print(df.size)\n",
        "print(df.shape)"
      ]
    },
    {
      "cell_type": "code",
      "execution_count": 8,
      "metadata": {
        "colab": {
          "base_uri": "https://localhost:8080/"
        },
        "id": "Lygl2MyO_Pgk",
        "outputId": "e1becd57-70fd-4195-fda2-37da614b5c13"
      },
      "outputs": [
        {
          "output_type": "execute_result",
          "data": {
            "text/plain": [
              "GENDER                   0\n",
              "AGE                      0\n",
              "SMOKING                  0\n",
              "YELLOW_FINGERS           0\n",
              "ANXIETY                  0\n",
              "PEER_PRESSURE            0\n",
              "CHRONIC DISEASE          0\n",
              "FATIGUE                  0\n",
              "ALLERGY                  0\n",
              "WHEEZING                 0\n",
              "ALCOHOL CONSUMING        0\n",
              "COUGHING                 0\n",
              "SHORTNESS OF BREATH      0\n",
              "SWALLOWING DIFFICULTY    0\n",
              "CHEST PAIN               0\n",
              "LUNG_CANCER              0\n",
              "dtype: int64"
            ]
          },
          "metadata": {},
          "execution_count": 8
        }
      ],
      "source": [
        "df.isnull().sum() # total null values"
      ]
    },
    {
      "cell_type": "markdown",
      "source": [
        "#DATA ENCODING: CONVERTIING STRING TO FLOAT"
      ],
      "metadata": {
        "id": "aMu5UbVrIH2S"
      }
    },
    {
      "cell_type": "code",
      "source": [
        "#GENDER               # Converting String to float\n",
        "from sklearn.preprocessing import LabelEncoder\n",
        "labelencoder = LabelEncoder()\n",
        "X = df.iloc[:,0].values\n",
        "df.iloc[:,0] = labelencoder.fit_transform(X)\n",
        "X = X.reshape(-1,1)"
      ],
      "metadata": {
        "id": "wpuLGvvND-YL"
      },
      "execution_count": 9,
      "outputs": []
    },
    {
      "cell_type": "code",
      "source": [
        "#LUNG CANCER               # Converting String to float\n",
        "from sklearn.preprocessing import LabelEncoder\n",
        "labelencoder = LabelEncoder()\n",
        "X = df.iloc[:,15].values\n",
        "df.iloc[:,15] = labelencoder.fit_transform(X)\n",
        "X = X.reshape(-1,1)"
      ],
      "metadata": {
        "id": "7nNSadd5EdkZ"
      },
      "execution_count": 10,
      "outputs": []
    },
    {
      "cell_type": "markdown",
      "metadata": {
        "id": "fuhluP2cS0JN"
      },
      "source": [
        "# CORRELATION DIAGRAM."
      ]
    },
    {
      "cell_type": "code",
      "execution_count": 11,
      "metadata": {
        "colab": {
          "base_uri": "https://localhost:8080/",
          "height": 512
        },
        "id": "Ydd0OZkz_UFk",
        "outputId": "4817055b-08dc-40eb-ce14-630accd43ef1"
      },
      "outputs": [
        {
          "output_type": "execute_result",
          "data": {
            "text/plain": [
              "<matplotlib.axes._subplots.AxesSubplot at 0x7f7fa49d1fd0>"
            ]
          },
          "metadata": {},
          "execution_count": 11
        },
        {
          "output_type": "display_data",
          "data": {
            "image/png": "[encoded data removed]",
            "text/plain": [
              "<Figure size 720x432 with 2 Axes>"
            ]
          },
          "metadata": {
            "needs_background": "light"
          }
        }
      ],
      "source": [
        "# Diagram\n",
        "import matplotlib.pyplot as plt\n",
        "corr = df.corr()\n",
        "plt.subplots(figsize=(10,6))\n",
        "sns.heatmap(corr,annot=True)"
      ]
    },
    {
      "cell_type": "markdown",
      "metadata": {
        "id": "gj0K54gCVH32"
      },
      "source": [
        "# DATA PREPROCESSING."
      ]
    },
    {
      "cell_type": "code",
      "execution_count": 12,
      "metadata": {
        "id": "X2PWEZqQI33m"
      },
      "outputs": [],
      "source": [
        "#df=df[['GENDER','AGE','SMOKING','YELLOW_FINGERS','ANXIETY','PEER_PRESSURE','CHRONIC DISEASE','FATIGUE' ,'ALLERGY' ,'WHEEZING','ALCOHOL','CONSUMING','COUGHING','SHORTNESS Of BREATH','SWALLOWING DIFFICULTY','CHEST PAIN','LUNG_CANCER']]\n",
        "#X=df[['GENDER','AGE','SMOKING','YELLOW_FINGERS','ANXIETY','PEER_PRESSURE','CHRONIC DISEASE','FATIGUE' ,'ALLERGY' ,'WHEEZING','ALCOHOL','CONSUMING','COUGHING','SHORTNESS Of BREATH','SWALLOWING DIFFICULTY','CHEST PAIN']]\n",
        "#y=df[['total_shares']]\n",
        "X = df.iloc[:,:15]\n",
        "y = df['LUNG_CANCER']\n"
      ]
    },
    {
      "cell_type": "markdown",
      "metadata": {
        "id": "kq_i9J9yVTqb"
      },
      "source": [
        "# **IMPORTING SCALERS**"
      ]
    },
    {
      "cell_type": "markdown",
      "metadata": {
        "id": "wS960xYIWC1f"
      },
      "source": [
        "# IMPORTING STANDARD SCALER."
      ]
    },
    {
      "cell_type": "code",
      "execution_count": 13,
      "metadata": {
        "colab": {
          "base_uri": "https://localhost:8080/"
        },
        "id": "YLolJGQI_mks",
        "outputId": "6713d397-0ae8-496c-8281-2b995c9bb1c7"
      },
      "outputs": [
        {
          "output_type": "stream",
          "name": "stdout",
          "text": [
            "[[ 0.95257934  0.77185028 -1.13529242 ...  0.74873631  1.06350105\n",
            "   0.892475  ]\n",
            " [ 0.95257934  1.38182914  0.88083033 ...  0.74873631  1.06350105\n",
            "   0.892475  ]\n",
            " [-1.04978132 -0.44810745 -1.13529242 ...  0.74873631 -0.94029056\n",
            "   0.892475  ]\n",
            " ...\n",
            " [ 0.95257934 -0.57010322  0.88083033 ... -1.33558369 -0.94029056\n",
            "   0.892475  ]\n",
            " [ 0.95257934  0.52785873  0.88083033 ...  0.74873631 -0.94029056\n",
            "   0.892475  ]\n",
            " [ 0.95257934 -0.08212013 -1.13529242 ... -1.33558369  1.06350105\n",
            "  -1.12047956]]\n"
          ]
        }
      ],
      "source": [
        "from sklearn.preprocessing import StandardScaler\n",
        "sc = StandardScaler()\n",
        "X = sc.fit_transform(X)\n",
        "\n",
        "print(X)"
      ]
    },
    {
      "cell_type": "markdown",
      "metadata": {
        "id": "YFWxj6drV7fo"
      },
      "source": [
        "# IMPORTING PCA SCALER."
      ]
    },
    {
      "cell_type": "code",
      "execution_count": 14,
      "metadata": {
        "id": "yZmBFhu4_1c6"
      },
      "outputs": [],
      "source": [
        "from sklearn.decomposition import PCA\n",
        "pca = PCA()\n",
        "X = np.nan_to_num(X)\n",
        "X_pca = pca.fit_transform(X)"
      ]
    },
    {
      "cell_type": "code",
      "execution_count": 15,
      "metadata": {
        "colab": {
          "base_uri": "https://localhost:8080/"
        },
        "id": "ALcwrhYrAAzs",
        "outputId": "6c4983ec-2f7d-46f7-b300-81e4e427c10f"
      },
      "outputs": [
        {
          "output_type": "stream",
          "name": "stdout",
          "text": [
            "[[-0.60029657]\n",
            " [-0.69925397]\n",
            " [-0.78740135]\n",
            " ...\n",
            " [-2.61118463]\n",
            " [-1.86090302]\n",
            " [-0.70339746]]\n"
          ]
        }
      ],
      "source": [
        "pca_new = PCA(n_components=1)\n",
        "X_new = pca_new.fit_transform(X)\n",
        "print(X_new)"
      ]
    },
    {
      "cell_type": "code",
      "execution_count": 16,
      "metadata": {
        "colab": {
          "base_uri": "https://localhost:8080/"
        },
        "id": "jsSrXb_uAzgH",
        "outputId": "b7a9b90a-08d4-40de-9272-81187d27369a"
      },
      "outputs": [
        {
          "output_type": "stream",
          "name": "stdout",
          "text": [
            "(927, 1)\n",
            "(927,)\n",
            "(309, 1)\n",
            "(309,)\n"
          ]
        }
      ],
      "source": [
        "from sklearn.model_selection import train_test_split\n",
        "X_train_pca, X_test_pca, Y_train_pca, Y_test_pca = train_test_split(X_new, y, test_size = 0.25)\n",
        "\n",
        "print(X_train_pca.shape)\n",
        "print(Y_train_pca.shape)\n",
        "print(X_test_pca.shape)\n",
        "print(Y_test_pca.shape)"
      ]
    },
    {
      "cell_type": "markdown",
      "metadata": {
        "id": "TrGIsu0cWcs9"
      },
      "source": [
        "# IMPORTING MIN-MAX SCALER."
      ]
    },
    {
      "cell_type": "code",
      "execution_count": 17,
      "metadata": {
        "id": "ItRqelY7BdpL"
      },
      "outputs": [],
      "source": [
        "from sklearn.preprocessing import MinMaxScaler\n",
        "mms = MinMaxScaler()\n",
        "X_train_mms= mms.fit_transform(X)\n",
        "X_test_mms = mms.transform(X)\n",
        "\n",
        "from sklearn.preprocessing import StandardScaler\n",
        "independent_scaler = StandardScaler()\n",
        "X_train_mms = independent_scaler.fit_transform(X_train_mms)\n",
        "X_test_mms = independent_scaler.transform(X_test_mms)"
      ]
    },
    {
      "cell_type": "code",
      "execution_count": 18,
      "metadata": {
        "colab": {
          "base_uri": "https://localhost:8080/"
        },
        "id": "2rOp-3NaBsAE",
        "outputId": "c78ae742-687e-4163-ed31-f11a223e34c8"
      },
      "outputs": [
        {
          "output_type": "stream",
          "name": "stdout",
          "text": [
            "(927, 15)\n",
            "(927,)\n",
            "(309, 15)\n",
            "(309,)\n"
          ]
        }
      ],
      "source": [
        "from sklearn.model_selection import train_test_split\n",
        "X_train_mms, X_test_mms, Y_train_mms, Y_test_mms = train_test_split(X, y, test_size = 0.25)\n",
        "\n",
        "print(X_train_mms.shape)\n",
        "print(Y_train_mms.shape)\n",
        "print(X_test_mms.shape)\n",
        "print(Y_test_mms.shape)"
      ]
    },
    {
      "cell_type": "markdown",
      "metadata": {
        "id": "8saNasNx3v4V"
      },
      "source": [
        "# MODELS USING **PCA**"
      ]
    },
    {
      "cell_type": "markdown",
      "metadata": {
        "id": "hPmATC4DCf9s"
      },
      "source": [
        "# LOGISTIC REGRESSION – PCA."
      ]
    },
    {
      "cell_type": "code",
      "execution_count": 19,
      "metadata": {
        "id": "QF6un-tTCC87"
      },
      "outputs": [],
      "source": [
        "X_train_pca, X_test_pca, Y_train_pca, Y_test_pca = train_test_split(X_new,y,test_size=0.3)"
      ]
    },
    {
      "cell_type": "code",
      "execution_count": 20,
      "metadata": {
        "colab": {
          "base_uri": "https://localhost:8080/"
        },
        "id": "0w11B4eOClMm",
        "outputId": "3d091619-a68d-4115-8ca1-e56ddfd11f00"
      },
      "outputs": [
        {
          "output_type": "execute_result",
          "data": {
            "text/plain": [
              "LogisticRegression(solver='liblinear')"
            ]
          },
          "metadata": {},
          "execution_count": 20
        }
      ],
      "source": [
        "from sklearn.linear_model import LogisticRegression\n",
        "logmodel_pca = LogisticRegression(solver='liblinear')\n",
        "X = np.nan_to_num(X)\n",
        "y = np.nan_to_num(y)\n",
        "logmodel_pca.fit(X_train_pca,Y_train_pca)"
      ]
    },
    {
      "cell_type": "code",
      "execution_count": 21,
      "metadata": {
        "id": "iqTKflVwCpoL"
      },
      "outputs": [],
      "source": [
        "lr_predictions_pca = logmodel_pca.predict(X_test_pca)"
      ]
    },
    {
      "cell_type": "code",
      "execution_count": 22,
      "metadata": {
        "colab": {
          "base_uri": "https://localhost:8080/"
        },
        "id": "PtMm0Y0MCwEU",
        "outputId": "bdc422e8-e235-417b-d6aa-e8cb30e3b5ad"
      },
      "outputs": [
        {
          "output_type": "stream",
          "name": "stdout",
          "text": [
            "[[  0  50]\n",
            " [  0 321]]\n"
          ]
        }
      ],
      "source": [
        "from sklearn.metrics import classification_report, confusion_matrix, accuracy_score, ConfusionMatrixDisplay\n",
        "print(confusion_matrix(Y_test_pca, lr_predictions_pca))"
      ]
    },
    {
      "cell_type": "code",
      "execution_count": 23,
      "metadata": {
        "id": "dy4t1TgbC0sL",
        "colab": {
          "base_uri": "https://localhost:8080/"
        },
        "outputId": "add3b175-f17d-40e9-8e5a-0f1aeda08a9a"
      },
      "outputs": [
        {
          "output_type": "stream",
          "name": "stdout",
          "text": [
            "                   precision    recall  f1-score   support\n",
            "\n",
            "    Having_cancer       0.00      0.00      0.00        50\n",
            "Not-having_cancer       0.87      1.00      0.93       321\n",
            "\n",
            "         accuracy                           0.87       371\n",
            "        macro avg       0.43      0.50      0.46       371\n",
            "     weighted avg       0.75      0.87      0.80       371\n",
            "\n"
          ]
        },
        {
          "output_type": "stream",
          "name": "stderr",
          "text": [
            "/usr/local/lib/python3.7/dist-packages/sklearn/metrics/_classification.py:1308: UndefinedMetricWarning: Precision and F-score are ill-defined and being set to 0.0 in labels with no predicted samples. Use `zero_division` parameter to control this behavior.\n",
            "  _warn_prf(average, modifier, msg_start, len(result))\n",
            "/usr/local/lib/python3.7/dist-packages/sklearn/metrics/_classification.py:1308: UndefinedMetricWarning: Precision and F-score are ill-defined and being set to 0.0 in labels with no predicted samples. Use `zero_division` parameter to control this behavior.\n",
            "  _warn_prf(average, modifier, msg_start, len(result))\n",
            "/usr/local/lib/python3.7/dist-packages/sklearn/metrics/_classification.py:1308: UndefinedMetricWarning: Precision and F-score are ill-defined and being set to 0.0 in labels with no predicted samples. Use `zero_division` parameter to control this behavior.\n",
            "  _warn_prf(average, modifier, msg_start, len(result))\n"
          ]
        }
      ],
      "source": [
        "target_names = ['Having_cancer','Not-having_cancer']\n",
        "print(classification_report(Y_test_pca, lr_predictions_pca.reshape(-1,1), target_names=target_names))\n"
      ]
    },
    {
      "cell_type": "code",
      "execution_count": 24,
      "metadata": {
        "id": "9o_W3stBC_YD",
        "colab": {
          "base_uri": "https://localhost:8080/"
        },
        "outputId": "e158d493-b253-444f-a173-34942ada4844"
      },
      "outputs": [
        {
          "output_type": "stream",
          "name": "stdout",
          "text": [
            "Accuracy:  0.8652291105121294\n"
          ]
        }
      ],
      "source": [
        "print(\"Accuracy: \",accuracy_score(Y_test_pca,lr_predictions_pca))"
      ]
    },
    {
      "cell_type": "code",
      "execution_count": 25,
      "metadata": {
        "id": "X0joYdyEDE37",
        "colab": {
          "base_uri": "https://localhost:8080/",
          "height": 410
        },
        "outputId": "ca2fa48d-fe1f-45bd-d1f5-9c4ba840a790"
      },
      "outputs": [
        {
          "output_type": "execute_result",
          "data": {
            "text/plain": [
              "<sklearn.metrics._plot.confusion_matrix.ConfusionMatrixDisplay at 0x7f7f9547dfd0>"
            ]
          },
          "metadata": {},
          "execution_count": 25
        },
        {
          "output_type": "display_data",
          "data": {
            "image/png": "[encoded data removed]",
            "text/plain": [
              "<Figure size 576x432 with 2 Axes>"
            ]
          },
          "metadata": {
            "needs_background": "light"
          }
        }
      ],
      "source": [
        "lr_cm_pca = confusion_matrix(Y_test_pca, lr_predictions_pca.reshape(-1,1), normalize='true')\n",
        "lr_disp_pca = ConfusionMatrixDisplay(confusion_matrix=lr_cm_pca, display_labels=target_names)\n",
        "lr_fig_pca, lr_ax_pca = plt.subplots(figsize=(8,6))\n",
        "lr_disp_pca.plot(ax=lr_ax_pca,cmap='Blues')"
      ]
    },
    {
      "cell_type": "markdown",
      "metadata": {
        "id": "q1N_se8HLw9b"
      },
      "source": [
        "# DECISION TREE CLASSIFIER - PCA."
      ]
    },
    {
      "cell_type": "code",
      "execution_count": 26,
      "metadata": {
        "id": "kINK2KzGLw9c"
      },
      "outputs": [],
      "source": [
        "from sklearn.model_selection import train_test_split\n",
        "X_train_pca, X_test_pca, Y_train_pca, Y_test_pca = train_test_split(X_new,y,test_size=0.3)"
      ]
    },
    {
      "cell_type": "code",
      "execution_count": 27,
      "metadata": {
        "id": "_0LuU3xoLw9c",
        "colab": {
          "base_uri": "https://localhost:8080/"
        },
        "outputId": "40a53970-bca8-42d9-d982-774334f0360c"
      },
      "outputs": [
        {
          "output_type": "execute_result",
          "data": {
            "text/plain": [
              "DecisionTreeClassifier()"
            ]
          },
          "metadata": {},
          "execution_count": 27
        }
      ],
      "source": [
        "from sklearn.tree import DecisionTreeClassifier\n",
        "dtree_pca = DecisionTreeClassifier()\n",
        "dtree_pca.fit(X_train_pca,Y_train_pca)"
      ]
    },
    {
      "cell_type": "code",
      "execution_count": 28,
      "metadata": {
        "id": "mf_J4eWrLw9c"
      },
      "outputs": [],
      "source": [
        "dt_predictions_pca = dtree_pca.predict(X_test_pca)"
      ]
    },
    {
      "cell_type": "code",
      "execution_count": 29,
      "metadata": {
        "id": "PvSJKPk0Lw9d",
        "colab": {
          "base_uri": "https://localhost:8080/"
        },
        "outputId": "515544e8-7e31-4f68-d231-9c2b4fca3acd"
      },
      "outputs": [
        {
          "output_type": "stream",
          "name": "stdout",
          "text": [
            "[[ 40   0]\n",
            " [  2 329]]\n"
          ]
        }
      ],
      "source": [
        "from sklearn.metrics import classification_report, confusion_matrix ,accuracy_score, ConfusionMatrixDisplay\n",
        "print(confusion_matrix(Y_test_pca, dt_predictions_pca))"
      ]
    },
    {
      "cell_type": "code",
      "execution_count": 30,
      "metadata": {
        "id": "FjWm5IKyLw9d",
        "colab": {
          "base_uri": "https://localhost:8080/"
        },
        "outputId": "5177c64e-5b7b-4387-a797-73272342e7e7"
      },
      "outputs": [
        {
          "output_type": "stream",
          "name": "stdout",
          "text": [
            "                   precision    recall  f1-score   support\n",
            "\n",
            "    Having_cancer       0.95      1.00      0.98        40\n",
            "Not-having_cancer       1.00      0.99      1.00       331\n",
            "\n",
            "         accuracy                           0.99       371\n",
            "        macro avg       0.98      1.00      0.99       371\n",
            "     weighted avg       0.99      0.99      0.99       371\n",
            "\n"
          ]
        }
      ],
      "source": [
        "target_names = ['Having_cancer','Not-having_cancer']\n",
        "print(classification_report(Y_test_pca, dt_predictions_pca.reshape(-1,1), target_names=target_names))"
      ]
    },
    {
      "cell_type": "code",
      "execution_count": 31,
      "metadata": {
        "id": "fHTsqdcxLw9d",
        "colab": {
          "base_uri": "https://localhost:8080/"
        },
        "outputId": "408c759e-aeed-4ed3-c3b3-67d4552e4724"
      },
      "outputs": [
        {
          "output_type": "stream",
          "name": "stdout",
          "text": [
            "Accuracy:  0.9946091644204852\n"
          ]
        }
      ],
      "source": [
        "print(\"Accuracy: \",accuracy_score(Y_test_pca,dt_predictions_pca))"
      ]
    },
    {
      "cell_type": "code",
      "execution_count": 32,
      "metadata": {
        "id": "dvvdrsIvLw9d",
        "colab": {
          "base_uri": "https://localhost:8080/",
          "height": 410
        },
        "outputId": "8d13564c-7379-46c7-f7ef-4ba33a9c1130"
      },
      "outputs": [
        {
          "output_type": "execute_result",
          "data": {
            "text/plain": [
              "<sklearn.metrics._plot.confusion_matrix.ConfusionMatrixDisplay at 0x7f7f9be8b850>"
            ]
          },
          "metadata": {},
          "execution_count": 32
        },
        {
          "output_type": "display_data",
          "data": {
            "image/png": "[encoded data removed]",
            "text/plain": [
              "<Figure size 576x432 with 2 Axes>"
            ]
          },
          "metadata": {
            "needs_background": "light"
          }
        }
      ],
      "source": [
        "dt_cm_pca = confusion_matrix(Y_test_pca, dt_predictions_pca.reshape(-1,1), normalize='true')\n",
        "dt_disp_pca = ConfusionMatrixDisplay(confusion_matrix=dt_cm_pca, display_labels=target_names)\n",
        "dt_fig_pca, dt_ax_pca = plt.subplots(figsize=(8,6))\n",
        "dt_disp_pca.plot(ax=dt_ax_pca,cmap='Blues')"
      ]
    },
    {
      "cell_type": "markdown",
      "metadata": {
        "id": "SjzGkmI3FSr0"
      },
      "source": [
        "# KNN CLASSIFIER - PCA."
      ]
    },
    {
      "cell_type": "code",
      "execution_count": 33,
      "metadata": {
        "id": "JvF8ZxyxIB-u"
      },
      "outputs": [],
      "source": [
        "from sklearn.model_selection import train_test_split\n",
        "from sklearn.neighbors import KNeighborsClassifier\n",
        "X_train_pca, X_test_pca, Y_train_pca, Y_test_pca = train_test_split(X_new,y,test_size=0.3)\n",
        "\n",
        "knn_pca = KNeighborsClassifier(n_neighbors=15)\n",
        "knn_pca.fit(X_train_pca,Y_train_pca)\n",
        "knn_predictions_pca = knn_pca.predict(X_test_pca)"
      ]
    },
    {
      "cell_type": "code",
      "execution_count": 34,
      "metadata": {
        "id": "7sXjBluIIUp-",
        "colab": {
          "base_uri": "https://localhost:8080/"
        },
        "outputId": "b86d5ca0-9fab-4c70-8fa8-0dce1ac85849"
      },
      "outputs": [
        {
          "output_type": "stream",
          "name": "stdout",
          "text": [
            "[[  9  39]\n",
            " [  6 317]]\n"
          ]
        }
      ],
      "source": [
        "from sklearn.metrics import classification_report, confusion_matrix,accuracy_score\n",
        "print(confusion_matrix(Y_test_pca,knn_predictions_pca))"
      ]
    },
    {
      "cell_type": "code",
      "execution_count": 35,
      "metadata": {
        "id": "1Cpj_J84IYky",
        "colab": {
          "base_uri": "https://localhost:8080/"
        },
        "outputId": "94631be0-286e-4a29-bcdf-590f41a9315a"
      },
      "outputs": [
        {
          "output_type": "stream",
          "name": "stdout",
          "text": [
            "                   precision    recall  f1-score   support\n",
            "\n",
            "    Having_cancer       0.60      0.19      0.29        48\n",
            "Not-having_cancer       0.89      0.98      0.93       323\n",
            "\n",
            "         accuracy                           0.88       371\n",
            "        macro avg       0.75      0.58      0.61       371\n",
            "     weighted avg       0.85      0.88      0.85       371\n",
            "\n"
          ]
        }
      ],
      "source": [
        "target_names = ['Having_cancer','Not-having_cancer']\n",
        "print(classification_report(Y_test_pca, knn_predictions_pca.reshape(-1,1), target_names=target_names))"
      ]
    },
    {
      "cell_type": "code",
      "execution_count": 36,
      "metadata": {
        "id": "0eCe6TPZIeTz",
        "colab": {
          "base_uri": "https://localhost:8080/"
        },
        "outputId": "af4ec568-e6db-4568-8856-d1fdd4263470"
      },
      "outputs": [
        {
          "output_type": "stream",
          "name": "stdout",
          "text": [
            "Accuracy:  0.8787061994609164\n"
          ]
        }
      ],
      "source": [
        "print(\"Accuracy: \",accuracy_score(Y_test_pca,knn_predictions_pca))"
      ]
    },
    {
      "cell_type": "code",
      "execution_count": 37,
      "metadata": {
        "id": "CzPwpWx0Ijcz",
        "colab": {
          "base_uri": "https://localhost:8080/",
          "height": 406
        },
        "outputId": "34891e66-620b-4de6-e1ee-684b08f5bc19"
      },
      "outputs": [
        {
          "output_type": "execute_result",
          "data": {
            "text/plain": [
              "<sklearn.metrics._plot.confusion_matrix.ConfusionMatrixDisplay at 0x7f7f936c1f10>"
            ]
          },
          "metadata": {},
          "execution_count": 37
        },
        {
          "output_type": "display_data",
          "data": {
            "image/png": "[encoded data removed]",
            "text/plain": [
              "<Figure size 576x432 with 2 Axes>"
            ]
          },
          "metadata": {
            "needs_background": "light"
          }
        }
      ],
      "source": [
        "knn_cm_pca = confusion_matrix(Y_test_pca, knn_predictions_pca.reshape(-1,1), normalize='true')\n",
        "knn_disp_pca = ConfusionMatrixDisplay(confusion_matrix=knn_cm_pca, display_labels=target_names)\n",
        "knn_fig_pca, knn_ax_pca = plt.subplots(figsize=(8,6))\n",
        "knn_disp_pca.plot(ax=knn_ax_pca,cmap='Blues')"
      ]
    },
    {
      "cell_type": "markdown",
      "metadata": {
        "id": "2lq-5oLxKiW1"
      },
      "source": [
        "# SVM CLASSIFIER - PCA."
      ]
    },
    {
      "cell_type": "code",
      "execution_count": 38,
      "metadata": {
        "id": "-dKZN7fcLrGS"
      },
      "outputs": [],
      "source": [
        "from sklearn.model_selection import train_test_split\n",
        "X_train_pca, X_test_pca, Y_train_pca, Y_test_pca = train_test_split(X_new,y,test_size=0.3)"
      ]
    },
    {
      "cell_type": "code",
      "execution_count": 39,
      "metadata": {
        "id": "4azccs-mL6va",
        "colab": {
          "base_uri": "https://localhost:8080/"
        },
        "outputId": "a6b75b51-ef0e-4ec6-8912-b400bd0417dc"
      },
      "outputs": [
        {
          "output_type": "execute_result",
          "data": {
            "text/plain": [
              "SVC()"
            ]
          },
          "metadata": {},
          "execution_count": 39
        }
      ],
      "source": [
        "from sklearn.svm import SVC\n",
        "from sklearn.metrics import classification_report, confusion_matrix, accuracy_score, ConfusionMatrixDisplay\n",
        "svc_pca = SVC()\n",
        "svc_pca.fit(X_train_pca, Y_train_pca)"
      ]
    },
    {
      "cell_type": "code",
      "execution_count": 40,
      "metadata": {
        "id": "vJnk5zA_MWp7"
      },
      "outputs": [],
      "source": [
        "svc_prediction_pca=svc_pca.predict(X_test_pca)"
      ]
    },
    {
      "cell_type": "code",
      "execution_count": 41,
      "metadata": {
        "id": "W8O-WDiKL9J6",
        "colab": {
          "base_uri": "https://localhost:8080/"
        },
        "outputId": "b0c3c0d0-914c-4001-ebfc-3c600a5ca405"
      },
      "outputs": [
        {
          "output_type": "stream",
          "name": "stdout",
          "text": [
            "[[  0  47]\n",
            " [  0 324]]\n"
          ]
        }
      ],
      "source": [
        "svc_cm_pca = confusion_matrix(Y_test_pca,svc_prediction_pca)\n",
        "print(svc_cm_pca)"
      ]
    },
    {
      "cell_type": "code",
      "execution_count": 42,
      "metadata": {
        "id": "BQOv3kIGMDgN",
        "colab": {
          "base_uri": "https://localhost:8080/"
        },
        "outputId": "f9e9b7a6-5c31-455a-9762-3773f39a19be"
      },
      "outputs": [
        {
          "output_type": "stream",
          "name": "stdout",
          "text": [
            "                   precision    recall  f1-score   support\n",
            "\n",
            "    Having_cancer       0.00      0.00      0.00        47\n",
            "Not-having_cancer       0.87      1.00      0.93       324\n",
            "\n",
            "         accuracy                           0.87       371\n",
            "        macro avg       0.44      0.50      0.47       371\n",
            "     weighted avg       0.76      0.87      0.81       371\n",
            "\n"
          ]
        },
        {
          "output_type": "stream",
          "name": "stderr",
          "text": [
            "/usr/local/lib/python3.7/dist-packages/sklearn/metrics/_classification.py:1308: UndefinedMetricWarning: Precision and F-score are ill-defined and being set to 0.0 in labels with no predicted samples. Use `zero_division` parameter to control this behavior.\n",
            "  _warn_prf(average, modifier, msg_start, len(result))\n",
            "/usr/local/lib/python3.7/dist-packages/sklearn/metrics/_classification.py:1308: UndefinedMetricWarning: Precision and F-score are ill-defined and being set to 0.0 in labels with no predicted samples. Use `zero_division` parameter to control this behavior.\n",
            "  _warn_prf(average, modifier, msg_start, len(result))\n",
            "/usr/local/lib/python3.7/dist-packages/sklearn/metrics/_classification.py:1308: UndefinedMetricWarning: Precision and F-score are ill-defined and being set to 0.0 in labels with no predicted samples. Use `zero_division` parameter to control this behavior.\n",
            "  _warn_prf(average, modifier, msg_start, len(result))\n"
          ]
        }
      ],
      "source": [
        "target_names = ['Having_cancer','Not-having_cancer']\n",
        "print(classification_report(Y_test_pca, svc_prediction_pca.reshape(-1,1), target_names=target_names))"
      ]
    },
    {
      "cell_type": "code",
      "execution_count": 43,
      "metadata": {
        "id": "-mv-NvKlMwyY",
        "colab": {
          "base_uri": "https://localhost:8080/"
        },
        "outputId": "9de075b2-4c36-470a-843c-641cae655c15"
      },
      "outputs": [
        {
          "output_type": "stream",
          "name": "stdout",
          "text": [
            "Accuracy:  0.8733153638814016\n"
          ]
        }
      ],
      "source": [
        "svc_acc_score_pca = accuracy_score(Y_test_pca, svc_prediction_pca)\n",
        "print(\"Accuracy: \",svc_acc_score_pca)"
      ]
    },
    {
      "cell_type": "code",
      "execution_count": 44,
      "metadata": {
        "id": "PAel6Sp8NB0L",
        "colab": {
          "base_uri": "https://localhost:8080/",
          "height": 410
        },
        "outputId": "c914910c-e031-4686-9854-2b7c85d64d0b"
      },
      "outputs": [
        {
          "output_type": "execute_result",
          "data": {
            "text/plain": [
              "<sklearn.metrics._plot.confusion_matrix.ConfusionMatrixDisplay at 0x7f7f9366f6d0>"
            ]
          },
          "metadata": {},
          "execution_count": 44
        },
        {
          "output_type": "display_data",
          "data": {
            "image/png": "[encoded data removed]",
            "text/plain": [
              "<Figure size 576x432 with 2 Axes>"
            ]
          },
          "metadata": {
            "needs_background": "light"
          }
        }
      ],
      "source": [
        "svm_cm_pca = confusion_matrix(Y_test_pca, svc_prediction_pca.reshape(-1,1), normalize='true')\n",
        "svm_disp_pca = ConfusionMatrixDisplay(confusion_matrix=svm_cm_pca, display_labels=target_names)\n",
        "svm_fig_pca, svm_ax_pca = plt.subplots(figsize=(8,6))\n",
        "svm_disp_pca.plot(ax=svm_ax_pca,cmap='Blues')"
      ]
    },
    {
      "cell_type": "markdown",
      "metadata": {
        "id": "K2aoc6DnOkTy"
      },
      "source": [
        "# RANDOM FOREST CLASSIFIER - PCA."
      ]
    },
    {
      "cell_type": "code",
      "execution_count": 45,
      "metadata": {
        "id": "R_vBnsgVOk7e"
      },
      "outputs": [],
      "source": [
        "from sklearn.model_selection import train_test_split\n",
        "X_train_pca, X_test_pca, Y_train_pca, Y_test_pca = train_test_split(X_new,y,test_size=0.3)"
      ]
    },
    {
      "cell_type": "code",
      "execution_count": 46,
      "metadata": {
        "id": "RqGv8x_eOsA5",
        "colab": {
          "base_uri": "https://localhost:8080/"
        },
        "outputId": "a52be45e-012f-49c7-9ead-be2f24113f07"
      },
      "outputs": [
        {
          "output_type": "execute_result",
          "data": {
            "text/plain": [
              "RandomForestClassifier(n_estimators=1236)"
            ]
          },
          "metadata": {},
          "execution_count": 46
        }
      ],
      "source": [
        "from sklearn.ensemble import RandomForestClassifier\n",
        "rfc_pca = RandomForestClassifier(n_estimators=1236)\n",
        "rfc_pca.fit(X_train_pca,Y_train_pca)"
      ]
    },
    {
      "cell_type": "code",
      "execution_count": 47,
      "metadata": {
        "id": "d613aP-GO0YD"
      },
      "outputs": [],
      "source": [
        "rfc_predictions_pca = rfc_pca.predict(X_test_pca)"
      ]
    },
    {
      "cell_type": "code",
      "execution_count": 48,
      "metadata": {
        "id": "-j9r9J0NO27s",
        "colab": {
          "base_uri": "https://localhost:8080/"
        },
        "outputId": "4baf3cab-bb90-46c5-d151-93015ad21b1a"
      },
      "outputs": [
        {
          "output_type": "stream",
          "name": "stdout",
          "text": [
            "[[ 42   4]\n",
            " [  6 319]]\n"
          ]
        }
      ],
      "source": [
        "from sklearn.metrics import classification_report, confusion_matrix ,accuracy_score, ConfusionMatrixDisplay\n",
        "print(confusion_matrix(Y_test_pca, rfc_predictions_pca))"
      ]
    },
    {
      "cell_type": "code",
      "execution_count": 49,
      "metadata": {
        "id": "JJgnaukJO6s2",
        "colab": {
          "base_uri": "https://localhost:8080/"
        },
        "outputId": "79ba988a-40ca-4673-cdf9-c270c094185c"
      },
      "outputs": [
        {
          "output_type": "stream",
          "name": "stdout",
          "text": [
            "                   precision    recall  f1-score   support\n",
            "\n",
            "    Having_cancer       0.88      0.91      0.89        46\n",
            "Not-having_cancer       0.99      0.98      0.98       325\n",
            "\n",
            "         accuracy                           0.97       371\n",
            "        macro avg       0.93      0.95      0.94       371\n",
            "     weighted avg       0.97      0.97      0.97       371\n",
            "\n"
          ]
        }
      ],
      "source": [
        "target_names = ['Having_cancer','Not-having_cancer']\n",
        "print(classification_report(Y_test_pca, rfc_predictions_pca.reshape(-1,1), target_names=target_names))"
      ]
    },
    {
      "cell_type": "code",
      "execution_count": 50,
      "metadata": {
        "id": "b5EO9mDnPB9z",
        "colab": {
          "base_uri": "https://localhost:8080/"
        },
        "outputId": "65ec59e1-7772-49e2-c17e-7022402339e6"
      },
      "outputs": [
        {
          "output_type": "stream",
          "name": "stdout",
          "text": [
            "Accuracy:  0.9730458221024259\n"
          ]
        }
      ],
      "source": [
        "print(\"Accuracy: \",accuracy_score(Y_test_pca,rfc_predictions_pca))"
      ]
    },
    {
      "cell_type": "code",
      "execution_count": 51,
      "metadata": {
        "id": "XMeaKj5zPJAd",
        "colab": {
          "base_uri": "https://localhost:8080/",
          "height": 406
        },
        "outputId": "5f267209-4df3-4fd6-b535-f58fc9df8d1e"
      },
      "outputs": [
        {
          "output_type": "execute_result",
          "data": {
            "text/plain": [
              "<sklearn.metrics._plot.confusion_matrix.ConfusionMatrixDisplay at 0x7f7f91e18050>"
            ]
          },
          "metadata": {},
          "execution_count": 51
        },
        {
          "output_type": "display_data",
          "data": {
            "image/png": "[encoded data removed]",
            "text/plain": [
              "<Figure size 576x432 with 2 Axes>"
            ]
          },
          "metadata": {
            "needs_background": "light"
          }
        }
      ],
      "source": [
        "rfc_cm_pca = confusion_matrix(Y_test_pca, rfc_predictions_pca.reshape(-1,1), normalize='true')\n",
        "rfc_disp_pca = ConfusionMatrixDisplay(confusion_matrix=rfc_cm_pca, display_labels=target_names)\n",
        "rfc_fig_pca, rfc_ax_pca = plt.subplots(figsize=(8,6))\n",
        "rfc_disp_pca.plot(ax=rfc_ax_pca,cmap='Blues')"
      ]
    },
    {
      "cell_type": "markdown",
      "metadata": {
        "id": "u7gSfaAPP58I"
      },
      "source": [
        "# NAIVE BAYES - PCA."
      ]
    },
    {
      "cell_type": "code",
      "execution_count": 52,
      "metadata": {
        "id": "KOE572tAP5f4"
      },
      "outputs": [],
      "source": [
        "from sklearn.model_selection import train_test_split\n",
        "X_train_pca, X_test_pca, Y_train_pca, Y_test_pca = train_test_split(X_new,y,test_size=0.3)"
      ]
    },
    {
      "cell_type": "code",
      "execution_count": 53,
      "metadata": {
        "id": "4Y3EQiTcQwxq",
        "colab": {
          "base_uri": "https://localhost:8080/"
        },
        "outputId": "a6170762-c3df-45eb-bf40-68906cbe05d3"
      },
      "outputs": [
        {
          "output_type": "execute_result",
          "data": {
            "text/plain": [
              "GaussianNB()"
            ]
          },
          "metadata": {},
          "execution_count": 53
        }
      ],
      "source": [
        "from sklearn.naive_bayes import GaussianNB\n",
        "model_pca = GaussianNB()\n",
        "model_pca.fit(X_train_pca, Y_train_pca)"
      ]
    },
    {
      "cell_type": "code",
      "execution_count": 54,
      "metadata": {
        "id": "ORsyOcsYQ4oK",
        "colab": {
          "base_uri": "https://localhost:8080/"
        },
        "outputId": "f7d3801a-9211-41e1-b7a4-b42743dd9974"
      },
      "outputs": [
        {
          "output_type": "stream",
          "name": "stdout",
          "text": [
            "[[  0  48]\n",
            " [  0 323]]\n"
          ]
        }
      ],
      "source": [
        "from sklearn.metrics import classification_report, confusion_matrix, accuracy_score, ConfusionMatrixDisplay\n",
        "nb_prediction_pca = model_pca.predict(X_test_pca)\n",
        "nb_cm_pca = confusion_matrix(Y_test_pca,nb_prediction_pca)\n",
        "print(nb_cm_pca)"
      ]
    },
    {
      "cell_type": "code",
      "execution_count": 55,
      "metadata": {
        "id": "db0UvCVxRC5V",
        "colab": {
          "base_uri": "https://localhost:8080/"
        },
        "outputId": "703997ae-b9d4-4066-d9d2-de06b4d2f272"
      },
      "outputs": [
        {
          "output_type": "stream",
          "name": "stdout",
          "text": [
            "                   precision    recall  f1-score   support\n",
            "\n",
            "    Having_cancer       0.00      0.00      0.00        48\n",
            "Not-having_cancer       0.87      1.00      0.93       323\n",
            "\n",
            "         accuracy                           0.87       371\n",
            "        macro avg       0.44      0.50      0.47       371\n",
            "     weighted avg       0.76      0.87      0.81       371\n",
            "\n"
          ]
        },
        {
          "output_type": "stream",
          "name": "stderr",
          "text": [
            "/usr/local/lib/python3.7/dist-packages/sklearn/metrics/_classification.py:1308: UndefinedMetricWarning: Precision and F-score are ill-defined and being set to 0.0 in labels with no predicted samples. Use `zero_division` parameter to control this behavior.\n",
            "  _warn_prf(average, modifier, msg_start, len(result))\n",
            "/usr/local/lib/python3.7/dist-packages/sklearn/metrics/_classification.py:1308: UndefinedMetricWarning: Precision and F-score are ill-defined and being set to 0.0 in labels with no predicted samples. Use `zero_division` parameter to control this behavior.\n",
            "  _warn_prf(average, modifier, msg_start, len(result))\n",
            "/usr/local/lib/python3.7/dist-packages/sklearn/metrics/_classification.py:1308: UndefinedMetricWarning: Precision and F-score are ill-defined and being set to 0.0 in labels with no predicted samples. Use `zero_division` parameter to control this behavior.\n",
            "  _warn_prf(average, modifier, msg_start, len(result))\n"
          ]
        }
      ],
      "source": [
        "target_names = ['Having_cancer','Not-having_cancer']\n",
        "print(classification_report(Y_test_pca, nb_prediction_pca.reshape(-1,1), target_names=target_names))"
      ]
    },
    {
      "cell_type": "code",
      "execution_count": 56,
      "metadata": {
        "id": "U_XZB5HMRKmQ",
        "colab": {
          "base_uri": "https://localhost:8080/"
        },
        "outputId": "c7bec2d3-d5fa-4742-d3ba-20b51cef4229"
      },
      "outputs": [
        {
          "output_type": "stream",
          "name": "stdout",
          "text": [
            "0.8706199460916442\n"
          ]
        }
      ],
      "source": [
        "nb_accuracy_pca = accuracy_score(Y_test_pca, nb_prediction_pca)\n",
        "print(nb_accuracy_pca)"
      ]
    },
    {
      "cell_type": "code",
      "execution_count": 57,
      "metadata": {
        "id": "8kwzp3pPRdwo",
        "colab": {
          "base_uri": "https://localhost:8080/",
          "height": 410
        },
        "outputId": "31b2bc0d-88d8-4de9-bb38-a6b0a267be50"
      },
      "outputs": [
        {
          "output_type": "execute_result",
          "data": {
            "text/plain": [
              "<sklearn.metrics._plot.confusion_matrix.ConfusionMatrixDisplay at 0x7f7f91eafb50>"
            ]
          },
          "metadata": {},
          "execution_count": 57
        },
        {
          "output_type": "display_data",
          "data": {
            "image/png": "[encoded data removed]",
            "text/plain": [
              "<Figure size 576x432 with 2 Axes>"
            ]
          },
          "metadata": {
            "needs_background": "light"
          }
        }
      ],
      "source": [
        "nb_cm_pca = confusion_matrix(Y_test_pca, nb_prediction_pca.reshape(-1,1), normalize='true')\n",
        "nb_disp_pca = ConfusionMatrixDisplay(confusion_matrix=nb_cm_pca, display_labels=target_names)\n",
        "nb_fig_pca, nb_ax_pca = plt.subplots(figsize=(8,6))\n",
        "nb_disp_pca.plot(ax=nb_ax_pca,cmap='Blues')"
      ]
    },
    {
      "cell_type": "markdown",
      "metadata": {
        "id": "cZ59jZ4r3-nC"
      },
      "source": [
        "# MODELS USING **MINMAX**"
      ]
    },
    {
      "cell_type": "markdown",
      "metadata": {
        "id": "8fgT1brEDKNE"
      },
      "source": [
        "# LOGISTIC REGRESSION - MINMAX."
      ]
    },
    {
      "cell_type": "code",
      "execution_count": 58,
      "metadata": {
        "id": "tTg26_U7DJi7"
      },
      "outputs": [],
      "source": [
        "X_train_mms, X_test_mms, Y_train_mms, Y_test_mms = train_test_split(X,y,test_size=0.3)"
      ]
    },
    {
      "cell_type": "code",
      "execution_count": 59,
      "metadata": {
        "id": "vf5GRGc6DRHT",
        "colab": {
          "base_uri": "https://localhost:8080/"
        },
        "outputId": "b4fe336d-6f38-4c42-de30-016345566138"
      },
      "outputs": [
        {
          "output_type": "execute_result",
          "data": {
            "text/plain": [
              "LogisticRegression(solver='liblinear')"
            ]
          },
          "metadata": {},
          "execution_count": 59
        }
      ],
      "source": [
        "from sklearn.linear_model import LogisticRegression\n",
        "logmodel_mms = LogisticRegression(solver='liblinear')\n",
        "logmodel_mms.fit(X_train_mms,Y_train_mms)"
      ]
    },
    {
      "cell_type": "code",
      "execution_count": 60,
      "metadata": {
        "id": "RFOS9QyWDUWG"
      },
      "outputs": [],
      "source": [
        "lr_predictions_mms = logmodel_mms.predict(X_test_mms)"
      ]
    },
    {
      "cell_type": "code",
      "execution_count": 61,
      "metadata": {
        "id": "JJM-wMVFDYnT",
        "colab": {
          "base_uri": "https://localhost:8080/"
        },
        "outputId": "25e04289-12f7-45c9-d697-7cb3da96854b"
      },
      "outputs": [
        {
          "output_type": "stream",
          "name": "stdout",
          "text": [
            "[[ 28  16]\n",
            " [  8 319]]\n"
          ]
        }
      ],
      "source": [
        "from sklearn.metrics import classification_report, confusion_matrix, accuracy_score, ConfusionMatrixDisplay\n",
        "print(confusion_matrix(Y_test_mms, lr_predictions_mms))"
      ]
    },
    {
      "cell_type": "code",
      "execution_count": 62,
      "metadata": {
        "id": "-wa1SHtrDcNj",
        "colab": {
          "base_uri": "https://localhost:8080/"
        },
        "outputId": "c9f7dd7d-f826-413a-cb6b-a864cd763c1b"
      },
      "outputs": [
        {
          "output_type": "stream",
          "name": "stdout",
          "text": [
            "                   precision    recall  f1-score   support\n",
            "\n",
            "    Having_cancer       0.78      0.64      0.70        44\n",
            "Not-having_cancer       0.95      0.98      0.96       327\n",
            "\n",
            "         accuracy                           0.94       371\n",
            "        macro avg       0.87      0.81      0.83       371\n",
            "     weighted avg       0.93      0.94      0.93       371\n",
            "\n"
          ]
        }
      ],
      "source": [
        "target_names = ['Having_cancer','Not-having_cancer']\n",
        "print(classification_report(Y_test_mms, lr_predictions_mms.reshape(-1,1), target_names=target_names))"
      ]
    },
    {
      "cell_type": "code",
      "execution_count": 63,
      "metadata": {
        "id": "NKqxnJdIDj_b",
        "colab": {
          "base_uri": "https://localhost:8080/"
        },
        "outputId": "dd39d37b-a06b-4cdc-c2eb-e21efb34435b"
      },
      "outputs": [
        {
          "output_type": "stream",
          "name": "stdout",
          "text": [
            "Accuracy:  0.9353099730458221\n"
          ]
        }
      ],
      "source": [
        "print(\"Accuracy: \",accuracy_score(Y_test_mms,lr_predictions_mms))"
      ]
    },
    {
      "cell_type": "code",
      "execution_count": 64,
      "metadata": {
        "id": "Vu9O5ZwrDniD",
        "colab": {
          "base_uri": "https://localhost:8080/",
          "height": 406
        },
        "outputId": "0d223263-ad90-4bf9-dd3f-ce3db299b453"
      },
      "outputs": [
        {
          "output_type": "execute_result",
          "data": {
            "text/plain": [
              "<sklearn.metrics._plot.confusion_matrix.ConfusionMatrixDisplay at 0x7f7f91d8e0d0>"
            ]
          },
          "metadata": {},
          "execution_count": 64
        },
        {
          "output_type": "display_data",
          "data": {
            "image/png": "[encoded data removed]",
            "text/plain": [
              "<Figure size 576x432 with 2 Axes>"
            ]
          },
          "metadata": {
            "needs_background": "light"
          }
        }
      ],
      "source": [
        "lr_cm_mms = confusion_matrix(Y_test_mms, lr_predictions_mms.reshape(-1,1), normalize='true')\n",
        "lr_disp_mms = ConfusionMatrixDisplay(confusion_matrix=lr_cm_mms, display_labels=target_names)\n",
        "lr_fig_mms, lr_ax_mms = plt.subplots(figsize=(8,6))\n",
        "lr_disp_mms.plot(ax=lr_ax_mms,cmap='Blues')"
      ]
    },
    {
      "cell_type": "markdown",
      "metadata": {
        "id": "IM3no8TpEk2l"
      },
      "source": [
        "# DECISION TREE CLASSIFIER- MINMAX."
      ]
    },
    {
      "cell_type": "code",
      "execution_count": 65,
      "metadata": {
        "id": "1XGaXB4VEd7U"
      },
      "outputs": [],
      "source": [
        "from sklearn.model_selection import train_test_split\n",
        "X_train_mms, X_test_mms, Y_train_mms, Y_test_mms = train_test_split(X,y,test_size=0.3)"
      ]
    },
    {
      "cell_type": "code",
      "execution_count": 66,
      "metadata": {
        "id": "Hfjy7w0bEoMM",
        "colab": {
          "base_uri": "https://localhost:8080/"
        },
        "outputId": "36221e91-f48d-4dc2-8edb-ee29051a8811"
      },
      "outputs": [
        {
          "output_type": "execute_result",
          "data": {
            "text/plain": [
              "DecisionTreeClassifier()"
            ]
          },
          "metadata": {},
          "execution_count": 66
        }
      ],
      "source": [
        "from sklearn.tree import DecisionTreeClassifier\n",
        "dtree_mms = DecisionTreeClassifier()\n",
        "dtree_mms.fit(X_train_mms,Y_train_mms)"
      ]
    },
    {
      "cell_type": "code",
      "execution_count": 67,
      "metadata": {
        "id": "tDJIkAAdEuaC"
      },
      "outputs": [],
      "source": [
        "dt_predictions_mms = dtree_mms.predict(X_test_mms)"
      ]
    },
    {
      "cell_type": "code",
      "execution_count": 68,
      "metadata": {
        "id": "_-waiyNxEyBb",
        "colab": {
          "base_uri": "https://localhost:8080/"
        },
        "outputId": "5683ae9c-fa85-4e00-8fd2-e6828554c6fc"
      },
      "outputs": [
        {
          "output_type": "stream",
          "name": "stdout",
          "text": [
            "[[ 41   0]\n",
            " [  1 329]]\n"
          ]
        }
      ],
      "source": [
        "from sklearn.metrics import classification_report, confusion_matrix ,accuracy_score, ConfusionMatrixDisplay\n",
        "print(confusion_matrix(Y_test_mms, dt_predictions_mms))"
      ]
    },
    {
      "cell_type": "code",
      "execution_count": 69,
      "metadata": {
        "id": "CuKp1OSgE2V2",
        "colab": {
          "base_uri": "https://localhost:8080/"
        },
        "outputId": "9d301d12-1afe-4594-fcf5-ff846c344ac2"
      },
      "outputs": [
        {
          "output_type": "stream",
          "name": "stdout",
          "text": [
            "                   precision    recall  f1-score   support\n",
            "\n",
            "    Having_cancer       0.98      1.00      0.99        41\n",
            "Not-having_cancer       1.00      1.00      1.00       330\n",
            "\n",
            "         accuracy                           1.00       371\n",
            "        macro avg       0.99      1.00      0.99       371\n",
            "     weighted avg       1.00      1.00      1.00       371\n",
            "\n"
          ]
        }
      ],
      "source": [
        "target_names = ['Having_cancer','Not-having_cancer']\n",
        "print(classification_report(Y_test_mms, dt_predictions_mms.reshape(-1,1), target_names=target_names))"
      ]
    },
    {
      "cell_type": "code",
      "execution_count": 70,
      "metadata": {
        "id": "JMXVmGnHFIEN",
        "colab": {
          "base_uri": "https://localhost:8080/"
        },
        "outputId": "c03f39bf-bdbd-4f2a-848e-313b2e0a4213"
      },
      "outputs": [
        {
          "output_type": "stream",
          "name": "stdout",
          "text": [
            "Accuracy:  0.9973045822102425\n"
          ]
        }
      ],
      "source": [
        "print(\"Accuracy: \",accuracy_score(Y_test_mms,dt_predictions_mms))"
      ]
    },
    {
      "cell_type": "code",
      "execution_count": 71,
      "metadata": {
        "id": "1sfYhTj8FKZT",
        "colab": {
          "base_uri": "https://localhost:8080/",
          "height": 410
        },
        "outputId": "3ce85687-a097-48bd-f452-fc528d7b04c7"
      },
      "outputs": [
        {
          "output_type": "execute_result",
          "data": {
            "text/plain": [
              "<sklearn.metrics._plot.confusion_matrix.ConfusionMatrixDisplay at 0x7f7f91c55c10>"
            ]
          },
          "metadata": {},
          "execution_count": 71
        },
        {
          "output_type": "display_data",
          "data": {
            "image/png": "[encoded data removed]",
            "text/plain": [
              "<Figure size 576x432 with 2 Axes>"
            ]
          },
          "metadata": {
            "needs_background": "light"
          }
        }
      ],
      "source": [
        "dt_cm_mms = confusion_matrix(Y_test_mms, dt_predictions_mms.reshape(-1,1), normalize='true')\n",
        "dt_disp_mms = ConfusionMatrixDisplay(confusion_matrix=dt_cm_mms, display_labels=target_names)\n",
        "dt_fig_mms, dt_ax_mms = plt.subplots(figsize=(8,6))\n",
        "dt_disp_mms.plot(ax=dt_ax_mms,cmap='Blues')"
      ]
    },
    {
      "cell_type": "markdown",
      "metadata": {
        "id": "Lx09CNRBKK6b"
      },
      "source": [
        "# KNN CLASSIFIER - MINMAX."
      ]
    },
    {
      "cell_type": "code",
      "execution_count": 72,
      "metadata": {
        "id": "PkMjgB2qKHSq"
      },
      "outputs": [],
      "source": [
        "from sklearn.model_selection import train_test_split\n",
        "from sklearn.neighbors import KNeighborsClassifier\n",
        "X_train_mms, X_test_mms, Y_train_mms, Y_test_mms = train_test_split(X,y,test_size=0.3)\n",
        "\n",
        "knn_mms = KNeighborsClassifier(n_neighbors=15)\n",
        "knn_mms.fit(X_train_mms,Y_train_mms)\n",
        "knn_predictions_mms = knn_mms.predict(X_test_mms)"
      ]
    },
    {
      "cell_type": "code",
      "execution_count": 73,
      "metadata": {
        "id": "zjEc9L2lKPIr",
        "colab": {
          "base_uri": "https://localhost:8080/"
        },
        "outputId": "5657882f-c2bb-44a6-fbcf-4fbdaf7efde5"
      },
      "outputs": [
        {
          "output_type": "stream",
          "name": "stdout",
          "text": [
            "[[ 28  12]\n",
            " [ 10 321]]\n"
          ]
        }
      ],
      "source": [
        "from sklearn.metrics import classification_report, confusion_matrix,accuracy_score\n",
        "print(confusion_matrix(Y_test_mms,knn_predictions_mms))"
      ]
    },
    {
      "cell_type": "code",
      "execution_count": 74,
      "metadata": {
        "id": "dlDLw4KPKTw0",
        "colab": {
          "base_uri": "https://localhost:8080/"
        },
        "outputId": "9bd7a7eb-7d29-465f-f2da-f9d21ea5fcd2"
      },
      "outputs": [
        {
          "output_type": "stream",
          "name": "stdout",
          "text": [
            "                   precision    recall  f1-score   support\n",
            "\n",
            "    Having_cancer       0.74      0.70      0.72        40\n",
            "Not-having_cancer       0.96      0.97      0.97       331\n",
            "\n",
            "         accuracy                           0.94       371\n",
            "        macro avg       0.85      0.83      0.84       371\n",
            "     weighted avg       0.94      0.94      0.94       371\n",
            "\n"
          ]
        }
      ],
      "source": [
        "target_names = ['Having_cancer','Not-having_cancer']\n",
        "print(classification_report(Y_test_mms, knn_predictions_mms.reshape(-1,1), target_names=target_names))"
      ]
    },
    {
      "cell_type": "code",
      "execution_count": 75,
      "metadata": {
        "id": "rGI6bT8oKbeq",
        "colab": {
          "base_uri": "https://localhost:8080/"
        },
        "outputId": "b2a104a4-01e3-4d44-a4e6-9bd1fe66c835"
      },
      "outputs": [
        {
          "output_type": "stream",
          "name": "stdout",
          "text": [
            "Accuracy:  0.9407008086253369\n"
          ]
        }
      ],
      "source": [
        "print(\"Accuracy: \",accuracy_score(Y_test_mms,knn_predictions_mms))"
      ]
    },
    {
      "cell_type": "code",
      "execution_count": 76,
      "metadata": {
        "id": "5FIhcTebKeAU",
        "colab": {
          "base_uri": "https://localhost:8080/",
          "height": 406
        },
        "outputId": "6eb909e5-684f-40ba-fe22-c300a31de967"
      },
      "outputs": [
        {
          "output_type": "execute_result",
          "data": {
            "text/plain": [
              "<sklearn.metrics._plot.confusion_matrix.ConfusionMatrixDisplay at 0x7f7f91bd2510>"
            ]
          },
          "metadata": {},
          "execution_count": 76
        },
        {
          "output_type": "display_data",
          "data": {
            "image/png": "[encoded data removed]",
            "text/plain": [
              "<Figure size 576x432 with 2 Axes>"
            ]
          },
          "metadata": {
            "needs_background": "light"
          }
        }
      ],
      "source": [
        "knn_cm_mms = confusion_matrix(Y_test_mms, knn_predictions_mms.reshape(-1,1), normalize='true')\n",
        "knn_disp_mms = ConfusionMatrixDisplay(confusion_matrix=knn_cm_mms, display_labels=target_names)\n",
        "knn_fig_mms, knn_ax_mms = plt.subplots(figsize=(8,6))\n",
        "knn_disp_mms.plot(ax=knn_ax_mms,cmap='Blues')"
      ]
    },
    {
      "cell_type": "markdown",
      "metadata": {
        "id": "REOCRl8JNYQg"
      },
      "source": [
        "# SVM CLASSIFIER - MINMAX."
      ]
    },
    {
      "cell_type": "code",
      "execution_count": 77,
      "metadata": {
        "id": "Up7OKKWJNZwK"
      },
      "outputs": [],
      "source": [
        "from sklearn.model_selection import train_test_split\n",
        "X_train_mms, X_test_mms, Y_train_mms, Y_test_mms = train_test_split(X,y,test_size=0.3)"
      ]
    },
    {
      "cell_type": "code",
      "execution_count": 78,
      "metadata": {
        "id": "hlgziJ3LNe1D",
        "colab": {
          "base_uri": "https://localhost:8080/"
        },
        "outputId": "a88e4aa0-f717-4c5c-e7c7-7ee996c9ae54"
      },
      "outputs": [
        {
          "output_type": "execute_result",
          "data": {
            "text/plain": [
              "SVC()"
            ]
          },
          "metadata": {},
          "execution_count": 78
        }
      ],
      "source": [
        "from sklearn.svm import SVC\n",
        "from sklearn.metrics import classification_report, confusion_matrix, accuracy_score, ConfusionMatrixDisplay\n",
        "svc_mms = SVC()\n",
        "svc_mms.fit(X_train_mms, Y_train_mms)"
      ]
    },
    {
      "cell_type": "code",
      "execution_count": 79,
      "metadata": {
        "id": "FLT78rxJNq3E"
      },
      "outputs": [],
      "source": [
        "svc_prediction_mms=svc_mms.predict(X_test_mms)"
      ]
    },
    {
      "cell_type": "code",
      "execution_count": 80,
      "metadata": {
        "id": "2Zjo36RyNsS8",
        "colab": {
          "base_uri": "https://localhost:8080/"
        },
        "outputId": "1efe7e7f-1f94-4084-9041-0762c368e8aa"
      },
      "outputs": [
        {
          "output_type": "stream",
          "name": "stdout",
          "text": [
            "[[ 39  10]\n",
            " [  5 317]]\n"
          ]
        }
      ],
      "source": [
        "svc_cm_mms = confusion_matrix(Y_test_mms,svc_prediction_mms)\n",
        "print(svc_cm_mms)"
      ]
    },
    {
      "cell_type": "code",
      "execution_count": 81,
      "metadata": {
        "id": "NdQmbyLfNy11",
        "colab": {
          "base_uri": "https://localhost:8080/"
        },
        "outputId": "67118bfd-cc1d-43f3-db6f-9e00e31fc60f"
      },
      "outputs": [
        {
          "output_type": "stream",
          "name": "stdout",
          "text": [
            "                   precision    recall  f1-score   support\n",
            "\n",
            "    Having_cancer       0.89      0.80      0.84        49\n",
            "Not-having_cancer       0.97      0.98      0.98       322\n",
            "\n",
            "         accuracy                           0.96       371\n",
            "        macro avg       0.93      0.89      0.91       371\n",
            "     weighted avg       0.96      0.96      0.96       371\n",
            "\n"
          ]
        }
      ],
      "source": [
        "target_names = ['Having_cancer','Not-having_cancer']\n",
        "print(classification_report(Y_test_mms, svc_prediction_mms.reshape(-1,1), target_names=target_names))"
      ]
    },
    {
      "cell_type": "code",
      "execution_count": 82,
      "metadata": {
        "id": "gCfuVjPQOJ5U",
        "colab": {
          "base_uri": "https://localhost:8080/"
        },
        "outputId": "709db882-e024-4444-ba61-213cc6f3c628"
      },
      "outputs": [
        {
          "output_type": "stream",
          "name": "stdout",
          "text": [
            "Accuracy:  0.9595687331536388\n"
          ]
        }
      ],
      "source": [
        "svc_acc_score_mms = accuracy_score(Y_test_mms, svc_prediction_mms)\n",
        "print(\"Accuracy: \",svc_acc_score_mms)"
      ]
    },
    {
      "cell_type": "code",
      "execution_count": 83,
      "metadata": {
        "id": "CSdqRam3OKzJ",
        "colab": {
          "base_uri": "https://localhost:8080/",
          "height": 406
        },
        "outputId": "253e133c-1c04-4378-ee78-58ca88b7e863"
      },
      "outputs": [
        {
          "output_type": "execute_result",
          "data": {
            "text/plain": [
              "<sklearn.metrics._plot.confusion_matrix.ConfusionMatrixDisplay at 0x7f7f91b254d0>"
            ]
          },
          "metadata": {},
          "execution_count": 83
        },
        {
          "output_type": "display_data",
          "data": {
            "image/png": "[encoded data removed]",
            "text/plain": [
              "<Figure size 576x432 with 2 Axes>"
            ]
          },
          "metadata": {
            "needs_background": "light"
          }
        }
      ],
      "source": [
        "svm_cm_mms = confusion_matrix(Y_test_mms, svc_prediction_mms.reshape(-1,1), normalize='true')\n",
        "svm_disp_mms = ConfusionMatrixDisplay(confusion_matrix=svm_cm_mms, display_labels=target_names)\n",
        "svm_fig_mms, svm_ax_mms = plt.subplots(figsize=(8,6))\n",
        "svm_disp_mms.plot(ax=svm_ax_mms,cmap='Blues')"
      ]
    },
    {
      "cell_type": "markdown",
      "metadata": {
        "id": "yS7thqwdPP6w"
      },
      "source": [
        "# RANDOM FOREST CLASSIFIER - MINMAX."
      ]
    },
    {
      "cell_type": "code",
      "execution_count": 84,
      "metadata": {
        "id": "1bgvPcYfPMjT"
      },
      "outputs": [],
      "source": [
        "from sklearn.model_selection import train_test_split\n",
        "X_train_mms, X_test_mms, Y_train_mms, Y_test_mms = train_test_split(X,y,test_size=0.3)"
      ]
    },
    {
      "cell_type": "code",
      "execution_count": 85,
      "metadata": {
        "id": "e1e_4UzkPVjv",
        "colab": {
          "base_uri": "https://localhost:8080/"
        },
        "outputId": "08c82b5f-7b94-4b97-f8f8-12a8e067fded"
      },
      "outputs": [
        {
          "output_type": "execute_result",
          "data": {
            "text/plain": [
              "RandomForestClassifier(n_estimators=1236)"
            ]
          },
          "metadata": {},
          "execution_count": 85
        }
      ],
      "source": [
        "from sklearn.ensemble import RandomForestClassifier\n",
        "rfc_mms = RandomForestClassifier(n_estimators=1236)\n",
        "rfc_mms.fit(X_train_mms,Y_train_mms)"
      ]
    },
    {
      "cell_type": "code",
      "execution_count": 86,
      "metadata": {
        "id": "1kO_MNG0PZxP"
      },
      "outputs": [],
      "source": [
        "rfc_predictions_mms = rfc_mms.predict(X_test_mms)"
      ]
    },
    {
      "cell_type": "code",
      "execution_count": 87,
      "metadata": {
        "id": "VUXYYFAlPf9J",
        "colab": {
          "base_uri": "https://localhost:8080/"
        },
        "outputId": "63d086ef-73c9-498f-d555-0c7878d5008e"
      },
      "outputs": [
        {
          "output_type": "stream",
          "name": "stdout",
          "text": [
            "[[ 56   3]\n",
            " [  0 312]]\n"
          ]
        }
      ],
      "source": [
        "from sklearn.metrics import classification_report, confusion_matrix ,accuracy_score, ConfusionMatrixDisplay\n",
        "print(confusion_matrix(Y_test_mms, rfc_predictions_mms))"
      ]
    },
    {
      "cell_type": "code",
      "execution_count": 88,
      "metadata": {
        "id": "AjoA8yyCPsYs",
        "colab": {
          "base_uri": "https://localhost:8080/"
        },
        "outputId": "4a0dc3a0-6343-43da-e122-55908e26ee0b"
      },
      "outputs": [
        {
          "output_type": "stream",
          "name": "stdout",
          "text": [
            "                   precision    recall  f1-score   support\n",
            "\n",
            "    Having_cancer       1.00      0.95      0.97        59\n",
            "Not-having_cancer       0.99      1.00      1.00       312\n",
            "\n",
            "         accuracy                           0.99       371\n",
            "        macro avg       1.00      0.97      0.98       371\n",
            "     weighted avg       0.99      0.99      0.99       371\n",
            "\n"
          ]
        }
      ],
      "source": [
        "target_names = ['Having_cancer','Not-having_cancer']\n",
        "print(classification_report(Y_test_mms, rfc_predictions_mms.reshape(-1,1), target_names=target_names))"
      ]
    },
    {
      "cell_type": "code",
      "execution_count": 89,
      "metadata": {
        "id": "SklJwzxuPyfD",
        "colab": {
          "base_uri": "https://localhost:8080/"
        },
        "outputId": "ec0f681d-a894-4e63-930d-5fae84456072"
      },
      "outputs": [
        {
          "output_type": "stream",
          "name": "stdout",
          "text": [
            "Accuracy:  0.9919137466307277\n"
          ]
        }
      ],
      "source": [
        "print(\"Accuracy: \",accuracy_score(Y_test_mms,rfc_predictions_mms))"
      ]
    },
    {
      "cell_type": "code",
      "execution_count": 90,
      "metadata": {
        "id": "YAlOXRWbP1lj",
        "colab": {
          "base_uri": "https://localhost:8080/",
          "height": 410
        },
        "outputId": "032fa16f-0070-47ae-bc05-02be5a2ed3fb"
      },
      "outputs": [
        {
          "output_type": "execute_result",
          "data": {
            "text/plain": [
              "<sklearn.metrics._plot.confusion_matrix.ConfusionMatrixDisplay at 0x7f7f9193cc50>"
            ]
          },
          "metadata": {},
          "execution_count": 90
        },
        {
          "output_type": "display_data",
          "data": {
            "image/png": "[encoded data removed]",
            "text/plain": [
              "<Figure size 576x432 with 2 Axes>"
            ]
          },
          "metadata": {
            "needs_background": "light"
          }
        }
      ],
      "source": [
        "rfc_cm_mms = confusion_matrix(Y_test_mms, rfc_predictions_mms.reshape(-1,1), normalize='true')\n",
        "rfc_disp_mms = ConfusionMatrixDisplay(confusion_matrix=rfc_cm_mms, display_labels=target_names)\n",
        "rfc_fig_mms, rfc_ax_mms = plt.subplots(figsize=(8,6))\n",
        "rfc_disp_mms.plot(ax=rfc_ax_mms,cmap='Blues')"
      ]
    },
    {
      "cell_type": "markdown",
      "metadata": {
        "id": "G-faiTIlRh1t"
      },
      "source": [
        "# NAIVE BAYES - MINMAX."
      ]
    },
    {
      "cell_type": "code",
      "execution_count": 91,
      "metadata": {
        "id": "uqHeREmoRhO8"
      },
      "outputs": [],
      "source": [
        "from sklearn.model_selection import train_test_split\n",
        "X_train_mms, X_test_mms, Y_train_mms, Y_test_mms = train_test_split(X,y,test_size=0.3)"
      ]
    },
    {
      "cell_type": "code",
      "execution_count": 92,
      "metadata": {
        "id": "snDhUplHRlQG",
        "colab": {
          "base_uri": "https://localhost:8080/"
        },
        "outputId": "0fd7a831-b102-48c1-bbb2-06969ba0bf83"
      },
      "outputs": [
        {
          "output_type": "execute_result",
          "data": {
            "text/plain": [
              "GaussianNB()"
            ]
          },
          "metadata": {},
          "execution_count": 92
        }
      ],
      "source": [
        "from sklearn.naive_bayes import GaussianNB\n",
        "model_mms = GaussianNB()\n",
        "model_mms.fit(X_train_mms, Y_train_mms)"
      ]
    },
    {
      "cell_type": "code",
      "execution_count": 93,
      "metadata": {
        "id": "ZerEvVNbRoui",
        "colab": {
          "base_uri": "https://localhost:8080/"
        },
        "outputId": "06b0176d-4579-4de7-f424-a1b312aef746"
      },
      "outputs": [
        {
          "output_type": "stream",
          "name": "stdout",
          "text": [
            "[[ 24  23]\n",
            " [ 19 305]]\n"
          ]
        }
      ],
      "source": [
        "from sklearn.metrics import classification_report, confusion_matrix, accuracy_score, ConfusionMatrixDisplay\n",
        "nb_prediction_mms = model_mms.predict(X_test_mms)\n",
        "nb_cm_mms = confusion_matrix(Y_test_mms,nb_prediction_mms)\n",
        "print(nb_cm_mms)"
      ]
    },
    {
      "cell_type": "code",
      "execution_count": 94,
      "metadata": {
        "id": "cUhkcifZRtK6",
        "colab": {
          "base_uri": "https://localhost:8080/"
        },
        "outputId": "212c9d08-fd71-4923-db7b-ee3fe32127c9"
      },
      "outputs": [
        {
          "output_type": "stream",
          "name": "stdout",
          "text": [
            "                   precision    recall  f1-score   support\n",
            "\n",
            "    Having_cancer       0.56      0.51      0.53        47\n",
            "Not-having_cancer       0.93      0.94      0.94       324\n",
            "\n",
            "         accuracy                           0.89       371\n",
            "        macro avg       0.74      0.73      0.73       371\n",
            "     weighted avg       0.88      0.89      0.88       371\n",
            "\n"
          ]
        }
      ],
      "source": [
        "target_names = ['Having_cancer','Not-having_cancer']\n",
        "print(classification_report(Y_test_mms, nb_prediction_mms.reshape(-1,1), target_names=target_names))"
      ]
    },
    {
      "cell_type": "code",
      "execution_count": 95,
      "metadata": {
        "id": "1srLPx1tRy_S",
        "colab": {
          "base_uri": "https://localhost:8080/"
        },
        "outputId": "6ea1fbac-0669-43e0-ea53-4efe1e125ed2"
      },
      "outputs": [
        {
          "output_type": "stream",
          "name": "stdout",
          "text": [
            "0.8867924528301887\n"
          ]
        }
      ],
      "source": [
        "nb_accuracy_mms = accuracy_score(Y_test_mms, nb_prediction_mms)\n",
        "print(nb_accuracy_mms)"
      ]
    },
    {
      "cell_type": "code",
      "execution_count": 96,
      "metadata": {
        "id": "xcw9uIlwR6Zi",
        "colab": {
          "base_uri": "https://localhost:8080/",
          "height": 406
        },
        "outputId": "c3c40b5b-7b0e-4577-f524-e8c0966373c3"
      },
      "outputs": [
        {
          "output_type": "execute_result",
          "data": {
            "text/plain": [
              "<sklearn.metrics._plot.confusion_matrix.ConfusionMatrixDisplay at 0x7f7f918bb350>"
            ]
          },
          "metadata": {},
          "execution_count": 96
        },
        {
          "output_type": "display_data",
          "data": {
            "image/png": "[encoded data removed]",
            "text/plain": [
              "<Figure size 576x432 with 2 Axes>"
            ]
          },
          "metadata": {
            "needs_background": "light"
          }
        }
      ],
      "source": [
        "nb_cm_mms = confusion_matrix(Y_test_mms, nb_prediction_mms.reshape(-1,1), normalize='true')\n",
        "nb_disp_mms = ConfusionMatrixDisplay(confusion_matrix=nb_cm_mms, display_labels=target_names)\n",
        "nb_fig_mms, nb_ax_mms = plt.subplots(figsize=(8,6))\n",
        "nb_disp_mms.plot(ax=nb_ax_mms,cmap='Blues')"
      ]
    }
  ]
}